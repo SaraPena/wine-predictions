{
 "cells": [
  {
   "cell_type": "markdown",
   "metadata": {},
   "source": [
    "# Can wine reviews predict the variety of wine?\n",
    "\n",
    "Can we use reviews of wine to predict their variety, the type of grape used to make the wine (ie Pinot Noir)?\n",
    "Many sommeliers use flavors to tell what kind of wine they are tasting, and different wines have distinct flavors. If we get flavors of the wine from a review do those match with the wine variety that they are label with?\n",
    "\n",
    "I found the dataset of wine reviews from Kaggle:\n",
    "https://www.kaggle.com/zynicide/wine-reviews\n",
    "\n"
   ]
  },
  {
   "cell_type": "code",
   "execution_count": 1,
   "metadata": {},
   "outputs": [],
   "source": [
    "# Create imports of libraries, and functions to use\n",
    "import pandas as pd\n",
    "import matplotlib.pyplot as plt\n",
    "from scipy.stats import iqr\n",
    "import numpy as np\n",
    "import seaborn as sns"
   ]
  },
  {
   "cell_type": "markdown",
   "metadata": {},
   "source": [
    "1. Read in dataset downloaded from kaggle. https://www.kaggle.com/zynicide/wine-reviews"
   ]
  },
  {
   "cell_type": "markdown",
   "metadata": {},
   "source": [
    "Look at the shape of the data"
   ]
  },
  {
   "cell_type": "code",
   "execution_count": 148,
   "metadata": {},
   "outputs": [
    {
     "data": {
      "text/plain": [
       "(129971, 13)"
      ]
     },
     "execution_count": 148,
     "metadata": {},
     "output_type": "execute_result"
    }
   ],
   "source": [
    "df = pd.read_csv('winemag-data-130k-v2.csv', index_col = 0)\n",
    "df.shape"
   ]
  },
  {
   "cell_type": "markdown",
   "metadata": {},
   "source": [
    "The original dataset is 129,971 rows and 13 columns "
   ]
  },
  {
   "cell_type": "markdown",
   "metadata": {},
   "source": [
    "Find the datatypes of the columns"
   ]
  },
  {
   "cell_type": "code",
   "execution_count": 149,
   "metadata": {},
   "outputs": [
    {
     "name": "stdout",
     "output_type": "stream",
     "text": [
      "<class 'pandas.core.frame.DataFrame'>\n",
      "Int64Index: 129971 entries, 0 to 129970\n",
      "Data columns (total 13 columns):\n",
      "country                  129908 non-null object\n",
      "description              129971 non-null object\n",
      "designation              92506 non-null object\n",
      "points                   129971 non-null int64\n",
      "price                    120975 non-null float64\n",
      "province                 129908 non-null object\n",
      "region_1                 108724 non-null object\n",
      "region_2                 50511 non-null object\n",
      "taster_name              103727 non-null object\n",
      "taster_twitter_handle    98758 non-null object\n",
      "title                    129971 non-null object\n",
      "variety                  129970 non-null object\n",
      "winery                   129971 non-null object\n",
      "dtypes: float64(1), int64(1), object(11)\n",
      "memory usage: 13.9+ MB\n"
     ]
    }
   ],
   "source": [
    "df.info()"
   ]
  },
  {
   "cell_type": "markdown",
   "metadata": {},
   "source": [
    "### Data Dictionary\n",
    "- **country** [String] The country that the wine is from.\n",
    "- **description** [FEATURE] [String] The description of the wine\n",
    "- **designation** [String] The vineyard within the winery where the grapes that made the wine are from\n",
    "- **points** [int]The number of points WineEnthusiast rated the wine on a scale of 1-100 (though they say they only post reviews for wines that score >=80)\n",
    "- **price** [float]The cost for a bottle of the wine\n",
    "- **province** [String] The province or state that the wine is from\n",
    "- **region_1** [String] The wine growing area in a province or state (ie Napa)\n",
    "- **region_2** [String] Sometimes there are more specific regions specified within a wine growing area (ie Rutherford inside the Napa Valley), but this value can sometimes be blank\n",
    "- **taster_name** [String] Name of the reviewer\n",
    "- **taster_twitter_handle** [String] Social media handle\n",
    "- **title** [String] The title of the wine review, which often contains the vintage if you're interested in extracting that feature\n",
    "- **variety** [TARGET][String] The type of grapes used to make the wine (ie Pinot Noir)\n",
    "- **winery** [String] The winery that made the wine"
   ]
  },
  {
   "cell_type": "code",
   "execution_count": null,
   "metadata": {},
   "outputs": [],
   "source": []
  },
  {
   "cell_type": "code",
   "execution_count": 150,
   "metadata": {},
   "outputs": [
    {
     "data": {
      "text/html": [
       "<div>\n",
       "<style scoped>\n",
       "    .dataframe tbody tr th:only-of-type {\n",
       "        vertical-align: middle;\n",
       "    }\n",
       "\n",
       "    .dataframe tbody tr th {\n",
       "        vertical-align: top;\n",
       "    }\n",
       "\n",
       "    .dataframe thead th {\n",
       "        text-align: right;\n",
       "    }\n",
       "</style>\n",
       "<table border=\"1\" class=\"dataframe\">\n",
       "  <thead>\n",
       "    <tr style=\"text-align: right;\">\n",
       "      <th></th>\n",
       "      <th>country</th>\n",
       "      <th>description</th>\n",
       "      <th>designation</th>\n",
       "      <th>points</th>\n",
       "      <th>price</th>\n",
       "      <th>province</th>\n",
       "      <th>region_1</th>\n",
       "      <th>region_2</th>\n",
       "      <th>taster_name</th>\n",
       "      <th>taster_twitter_handle</th>\n",
       "      <th>title</th>\n",
       "      <th>variety</th>\n",
       "      <th>winery</th>\n",
       "    </tr>\n",
       "  </thead>\n",
       "  <tbody>\n",
       "    <tr>\n",
       "      <th>0</th>\n",
       "      <td>Italy</td>\n",
       "      <td>Aromas include tropical fruit, broom, brimston...</td>\n",
       "      <td>Vulkà Bianco</td>\n",
       "      <td>87</td>\n",
       "      <td>NaN</td>\n",
       "      <td>Sicily &amp; Sardinia</td>\n",
       "      <td>Etna</td>\n",
       "      <td>NaN</td>\n",
       "      <td>Kerin O’Keefe</td>\n",
       "      <td>@kerinokeefe</td>\n",
       "      <td>Nicosia 2013 Vulkà Bianco  (Etna)</td>\n",
       "      <td>White Blend</td>\n",
       "      <td>Nicosia</td>\n",
       "    </tr>\n",
       "    <tr>\n",
       "      <th>1</th>\n",
       "      <td>Portugal</td>\n",
       "      <td>This is ripe and fruity, a wine that is smooth...</td>\n",
       "      <td>Avidagos</td>\n",
       "      <td>87</td>\n",
       "      <td>15.0</td>\n",
       "      <td>Douro</td>\n",
       "      <td>NaN</td>\n",
       "      <td>NaN</td>\n",
       "      <td>Roger Voss</td>\n",
       "      <td>@vossroger</td>\n",
       "      <td>Quinta dos Avidagos 2011 Avidagos Red (Douro)</td>\n",
       "      <td>Portuguese Red</td>\n",
       "      <td>Quinta dos Avidagos</td>\n",
       "    </tr>\n",
       "    <tr>\n",
       "      <th>2</th>\n",
       "      <td>US</td>\n",
       "      <td>Tart and snappy, the flavors of lime flesh and...</td>\n",
       "      <td>NaN</td>\n",
       "      <td>87</td>\n",
       "      <td>14.0</td>\n",
       "      <td>Oregon</td>\n",
       "      <td>Willamette Valley</td>\n",
       "      <td>Willamette Valley</td>\n",
       "      <td>Paul Gregutt</td>\n",
       "      <td>@paulgwine</td>\n",
       "      <td>Rainstorm 2013 Pinot Gris (Willamette Valley)</td>\n",
       "      <td>Pinot Gris</td>\n",
       "      <td>Rainstorm</td>\n",
       "    </tr>\n",
       "    <tr>\n",
       "      <th>3</th>\n",
       "      <td>US</td>\n",
       "      <td>Pineapple rind, lemon pith and orange blossom ...</td>\n",
       "      <td>Reserve Late Harvest</td>\n",
       "      <td>87</td>\n",
       "      <td>13.0</td>\n",
       "      <td>Michigan</td>\n",
       "      <td>Lake Michigan Shore</td>\n",
       "      <td>NaN</td>\n",
       "      <td>Alexander Peartree</td>\n",
       "      <td>NaN</td>\n",
       "      <td>St. Julian 2013 Reserve Late Harvest Riesling ...</td>\n",
       "      <td>Riesling</td>\n",
       "      <td>St. Julian</td>\n",
       "    </tr>\n",
       "    <tr>\n",
       "      <th>4</th>\n",
       "      <td>US</td>\n",
       "      <td>Much like the regular bottling from 2012, this...</td>\n",
       "      <td>Vintner's Reserve Wild Child Block</td>\n",
       "      <td>87</td>\n",
       "      <td>65.0</td>\n",
       "      <td>Oregon</td>\n",
       "      <td>Willamette Valley</td>\n",
       "      <td>Willamette Valley</td>\n",
       "      <td>Paul Gregutt</td>\n",
       "      <td>@paulgwine</td>\n",
       "      <td>Sweet Cheeks 2012 Vintner's Reserve Wild Child...</td>\n",
       "      <td>Pinot Noir</td>\n",
       "      <td>Sweet Cheeks</td>\n",
       "    </tr>\n",
       "  </tbody>\n",
       "</table>\n",
       "</div>"
      ],
      "text/plain": [
       "    country                                        description  \\\n",
       "0     Italy  Aromas include tropical fruit, broom, brimston...   \n",
       "1  Portugal  This is ripe and fruity, a wine that is smooth...   \n",
       "2        US  Tart and snappy, the flavors of lime flesh and...   \n",
       "3        US  Pineapple rind, lemon pith and orange blossom ...   \n",
       "4        US  Much like the regular bottling from 2012, this...   \n",
       "\n",
       "                          designation  points  price           province  \\\n",
       "0                        Vulkà Bianco      87    NaN  Sicily & Sardinia   \n",
       "1                            Avidagos      87   15.0              Douro   \n",
       "2                                 NaN      87   14.0             Oregon   \n",
       "3                Reserve Late Harvest      87   13.0           Michigan   \n",
       "4  Vintner's Reserve Wild Child Block      87   65.0             Oregon   \n",
       "\n",
       "              region_1           region_2         taster_name  \\\n",
       "0                 Etna                NaN       Kerin O’Keefe   \n",
       "1                  NaN                NaN          Roger Voss   \n",
       "2    Willamette Valley  Willamette Valley        Paul Gregutt   \n",
       "3  Lake Michigan Shore                NaN  Alexander Peartree   \n",
       "4    Willamette Valley  Willamette Valley        Paul Gregutt   \n",
       "\n",
       "  taster_twitter_handle                                              title  \\\n",
       "0          @kerinokeefe                  Nicosia 2013 Vulkà Bianco  (Etna)   \n",
       "1            @vossroger      Quinta dos Avidagos 2011 Avidagos Red (Douro)   \n",
       "2           @paulgwine       Rainstorm 2013 Pinot Gris (Willamette Valley)   \n",
       "3                   NaN  St. Julian 2013 Reserve Late Harvest Riesling ...   \n",
       "4           @paulgwine   Sweet Cheeks 2012 Vintner's Reserve Wild Child...   \n",
       "\n",
       "          variety               winery  \n",
       "0     White Blend              Nicosia  \n",
       "1  Portuguese Red  Quinta dos Avidagos  \n",
       "2      Pinot Gris            Rainstorm  \n",
       "3        Riesling           St. Julian  \n",
       "4      Pinot Noir         Sweet Cheeks  "
      ]
     },
     "execution_count": 150,
     "metadata": {},
     "output_type": "execute_result"
    }
   ],
   "source": [
    "# Look at the top of the table\n",
    "df.head()"
   ]
  },
  {
   "cell_type": "markdown",
   "metadata": {},
   "source": [
    "What does the distribution of price look like?"
   ]
  },
  {
   "cell_type": "code",
   "execution_count": 151,
   "metadata": {},
   "outputs": [
    {
     "data": {
      "text/plain": [
       "count    120975.000000\n",
       "mean         35.363389\n",
       "std          41.022218\n",
       "min           4.000000\n",
       "25%          17.000000\n",
       "50%          25.000000\n",
       "75%          42.000000\n",
       "max        3300.000000\n",
       "Name: price, dtype: float64"
      ]
     },
     "execution_count": 151,
     "metadata": {},
     "output_type": "execute_result"
    }
   ],
   "source": [
    "df.price.describe()"
   ]
  },
  {
   "cell_type": "code",
   "execution_count": 152,
   "metadata": {},
   "outputs": [
    {
     "name": "stderr",
     "output_type": "stream",
     "text": [
      "/usr/local/anaconda3/lib/python3.7/site-packages/numpy/lib/histograms.py:839: RuntimeWarning: invalid value encountered in greater_equal\n",
      "  keep = (tmp_a >= first_edge)\n",
      "/usr/local/anaconda3/lib/python3.7/site-packages/numpy/lib/histograms.py:840: RuntimeWarning: invalid value encountered in less_equal\n",
      "  keep &= (tmp_a <= last_edge)\n"
     ]
    },
    {
     "data": {
      "image/png": "[encoded data removed]",
      "text/plain": [
       "<Figure size 432x288 with 1 Axes>"
      ]
     },
     "metadata": {
      "needs_background": "light"
     },
     "output_type": "display_data"
    }
   ],
   "source": [
    "plt.hist(df.price, bins = 1000)\n",
    "plt.show()"
   ]
  },
  {
   "cell_type": "code",
   "execution_count": 153,
   "metadata": {},
   "outputs": [
    {
     "data": {
      "text/plain": [
       "<matplotlib.axes._subplots.AxesSubplot at 0x1a29fc76a0>"
      ]
     },
     "execution_count": 153,
     "metadata": {},
     "output_type": "execute_result"
    },
    {
     "data": {
      "image/png": "[encoded data removed]",
      "text/plain": [
       "<Figure size 432x288 with 1 Axes>"
      ]
     },
     "metadata": {
      "needs_background": "light"
     },
     "output_type": "display_data"
    }
   ],
   "source": [
    "sns.boxplot(df.price)"
   ]
  },
  {
   "cell_type": "markdown",
   "metadata": {},
   "source": [
    "Looks like there are outliers in price because the 3rd quartile of our wines are $42, and we have a very expensive wine that is 3300. We are going to make our data for our average wines not those that are only tasted by a select few. We will do this by creating a upper fence using the inter quartile range."
   ]
  },
  {
   "cell_type": "code",
   "execution_count": 154,
   "metadata": {},
   "outputs": [
    {
     "data": {
      "text/plain": [
       "NaN     8996\n",
       "20.0    6940\n",
       "15.0    6066\n",
       "25.0    5805\n",
       "30.0    4951\n",
       "Name: price, dtype: int64"
      ]
     },
     "execution_count": 154,
     "metadata": {},
     "output_type": "execute_result"
    }
   ],
   "source": [
    "df.price.value_counts(dropna=False).head()"
   ]
  },
  {
   "cell_type": "markdown",
   "metadata": {},
   "source": [
    "There are 8996 wines that do not have a price label"
   ]
  },
  {
   "cell_type": "code",
   "execution_count": 155,
   "metadata": {},
   "outputs": [
    {
     "data": {
      "text/plain": [
       "25.0"
      ]
     },
     "execution_count": 155,
     "metadata": {},
     "output_type": "execute_result"
    }
   ],
   "source": [
    "iqr_price = iqr(df[['price']].dropna().price)\n",
    "iqr_price"
   ]
  },
  {
   "cell_type": "code",
   "execution_count": 156,
   "metadata": {},
   "outputs": [
    {
     "data": {
      "text/plain": [
       "42.0"
      ]
     },
     "execution_count": 156,
     "metadata": {},
     "output_type": "execute_result"
    }
   ],
   "source": [
    "third_quantile = np.quantile(df[['price']].dropna().price, .75)\n",
    "third_quantile"
   ]
  },
  {
   "cell_type": "code",
   "execution_count": 157,
   "metadata": {},
   "outputs": [
    {
     "data": {
      "text/plain": [
       "117.0"
      ]
     },
     "execution_count": 157,
     "metadata": {},
     "output_type": "execute_result"
    }
   ],
   "source": [
    "upper_fence = third_quantile + 3*iqr_price\n",
    "upper_fence"
   ]
  },
  {
   "cell_type": "markdown",
   "metadata": {},
   "source": [
    "Our upper fence will be wines that are max $117\n",
    "\n",
    "We will create a NEW dataframe that only contains wines less than $117"
   ]
  },
  {
   "cell_type": "code",
   "execution_count": 158,
   "metadata": {},
   "outputs": [],
   "source": [
    "df = df[df.price <= upper_fence]"
   ]
  },
  {
   "cell_type": "code",
   "execution_count": 159,
   "metadata": {},
   "outputs": [
    {
     "data": {
      "text/plain": [
       "count    118299.000000\n",
       "mean         31.541399\n",
       "std          20.052396\n",
       "min           4.000000\n",
       "25%          17.000000\n",
       "50%          25.000000\n",
       "75%          40.000000\n",
       "max         117.000000\n",
       "Name: price, dtype: float64"
      ]
     },
     "execution_count": 159,
     "metadata": {},
     "output_type": "execute_result"
    }
   ],
   "source": [
    "df.price.describe()"
   ]
  },
  {
   "cell_type": "markdown",
   "metadata": {},
   "source": [
    "Our new maximum is now $117, inside the upper fence."
   ]
  },
  {
   "cell_type": "code",
   "execution_count": 160,
   "metadata": {},
   "outputs": [
    {
     "data": {
      "text/plain": [
       "(118299, 13)"
      ]
     },
     "execution_count": 160,
     "metadata": {},
     "output_type": "execute_result"
    }
   ],
   "source": [
    "df.shape"
   ]
  },
  {
   "cell_type": "markdown",
   "metadata": {},
   "source": [
    "From df.shape we can see that the new dataframe dropped 10,000+ rows"
   ]
  },
  {
   "cell_type": "code",
   "execution_count": 161,
   "metadata": {},
   "outputs": [
    {
     "data": {
      "text/plain": [
       "Text(0, 0.5, 'count')"
      ]
     },
     "execution_count": 161,
     "metadata": {},
     "output_type": "execute_result"
    },
    {
     "data": {
      "image/png": "[encoded data removed]",
      "text/plain": [
       "<Figure size 432x288 with 1 Axes>"
      ]
     },
     "metadata": {
      "needs_background": "light"
     },
     "output_type": "display_data"
    }
   ],
   "source": [
    "df.price.hist()\n",
    "plt.xlabel('price')\n",
    "plt.ylabel('count')"
   ]
  },
  {
   "cell_type": "markdown",
   "metadata": {},
   "source": [
    "How many tasters are in the dataset?"
   ]
  },
  {
   "cell_type": "code",
   "execution_count": 162,
   "metadata": {},
   "outputs": [
    {
     "data": {
      "text/plain": [
       "19"
      ]
     },
     "execution_count": 162,
     "metadata": {},
     "output_type": "execute_result"
    }
   ],
   "source": [
    "df.taster_name.nunique()"
   ]
  },
  {
   "cell_type": "markdown",
   "metadata": {},
   "source": [
    "Who are the top 5% of tasters?"
   ]
  },
  {
   "cell_type": "code",
   "execution_count": null,
   "metadata": {},
   "outputs": [],
   "source": []
  },
  {
   "cell_type": "code",
   "execution_count": 163,
   "metadata": {},
   "outputs": [
    {
     "data": {
      "text/plain": [
       "Text(0, 0.5, 'Count of Reviews')"
      ]
     },
     "execution_count": 163,
     "metadata": {},
     "output_type": "execute_result"
    },
    {
     "data": {
      "image/png": "[encoded data removed]",
      "text/plain": [
       "<Figure size 864x432 with 1 Axes>"
      ]
     },
     "metadata": {
      "needs_background": "light"
     },
     "output_type": "display_data"
    }
   ],
   "source": [
    "top_five_tasters = pd.DataFrame(df.taster_name.value_counts()).rename(columns = {'taster_name':'count'})[0:5]\n",
    "\n",
    "\n",
    "plt.figure(figsize = (12,6))\n",
    "plt.bar(x = top_five_tasters.index.values, height = top_five_tasters['count'])\n",
    "plt.xlabel('Taster Name', size = 14)\n",
    "plt.ylabel('Count of Reviews', size = 14)"
   ]
  },
  {
   "cell_type": "code",
   "execution_count": 164,
   "metadata": {},
   "outputs": [
    {
     "data": {
      "text/html": [
       "<div>\n",
       "<style scoped>\n",
       "    .dataframe tbody tr th:only-of-type {\n",
       "        vertical-align: middle;\n",
       "    }\n",
       "\n",
       "    .dataframe tbody tr th {\n",
       "        vertical-align: top;\n",
       "    }\n",
       "\n",
       "    .dataframe thead th {\n",
       "        text-align: right;\n",
       "    }\n",
       "</style>\n",
       "<table border=\"1\" class=\"dataframe\">\n",
       "  <thead>\n",
       "    <tr style=\"text-align: right;\">\n",
       "      <th></th>\n",
       "      <th>count</th>\n",
       "    </tr>\n",
       "  </thead>\n",
       "  <tbody>\n",
       "    <tr>\n",
       "      <th>Roger Voss</th>\n",
       "      <td>19368</td>\n",
       "    </tr>\n",
       "    <tr>\n",
       "      <th>Michael Schachner</th>\n",
       "      <td>14699</td>\n",
       "    </tr>\n",
       "    <tr>\n",
       "      <th>Kerin O’Keefe</th>\n",
       "      <td>9545</td>\n",
       "    </tr>\n",
       "    <tr>\n",
       "      <th>Paul Gregutt</th>\n",
       "      <td>9457</td>\n",
       "    </tr>\n",
       "    <tr>\n",
       "      <th>Virginie Boone</th>\n",
       "      <td>9133</td>\n",
       "    </tr>\n",
       "  </tbody>\n",
       "</table>\n",
       "</div>"
      ],
      "text/plain": [
       "                   count\n",
       "Roger Voss         19368\n",
       "Michael Schachner  14699\n",
       "Kerin O’Keefe       9545\n",
       "Paul Gregutt        9457\n",
       "Virginie Boone      9133"
      ]
     },
     "execution_count": 164,
     "metadata": {},
     "output_type": "execute_result"
    }
   ],
   "source": [
    "top_five_tasters"
   ]
  },
  {
   "cell_type": "markdown",
   "metadata": {},
   "source": [
    "What variety's of wine are in our dataset?"
   ]
  },
  {
   "cell_type": "code",
   "execution_count": 165,
   "metadata": {},
   "outputs": [
    {
     "data": {
      "text/html": [
       "<div>\n",
       "<style scoped>\n",
       "    .dataframe tbody tr th:only-of-type {\n",
       "        vertical-align: middle;\n",
       "    }\n",
       "\n",
       "    .dataframe tbody tr th {\n",
       "        vertical-align: top;\n",
       "    }\n",
       "\n",
       "    .dataframe thead th {\n",
       "        text-align: right;\n",
       "    }\n",
       "</style>\n",
       "<table border=\"1\" class=\"dataframe\">\n",
       "  <thead>\n",
       "    <tr style=\"text-align: right;\">\n",
       "      <th></th>\n",
       "      <th>country</th>\n",
       "      <th>description</th>\n",
       "      <th>designation</th>\n",
       "      <th>points</th>\n",
       "      <th>price</th>\n",
       "      <th>province</th>\n",
       "      <th>region_1</th>\n",
       "      <th>region_2</th>\n",
       "      <th>taster_name</th>\n",
       "      <th>taster_twitter_handle</th>\n",
       "      <th>title</th>\n",
       "      <th>variety</th>\n",
       "      <th>winery</th>\n",
       "    </tr>\n",
       "  </thead>\n",
       "  <tbody>\n",
       "    <tr>\n",
       "      <th>86909</th>\n",
       "      <td>Chile</td>\n",
       "      <td>A chalky, dusty mouthfeel nicely balances this...</td>\n",
       "      <td>NaN</td>\n",
       "      <td>88</td>\n",
       "      <td>17.0</td>\n",
       "      <td>Maipo Valley</td>\n",
       "      <td>NaN</td>\n",
       "      <td>NaN</td>\n",
       "      <td>NaN</td>\n",
       "      <td>NaN</td>\n",
       "      <td>Carmen 1999  (Maipo Valley)</td>\n",
       "      <td>NaN</td>\n",
       "      <td>Carmen</td>\n",
       "    </tr>\n",
       "  </tbody>\n",
       "</table>\n",
       "</div>"
      ],
      "text/plain": [
       "      country                                        description designation  \\\n",
       "86909   Chile  A chalky, dusty mouthfeel nicely balances this...         NaN   \n",
       "\n",
       "       points  price      province region_1 region_2 taster_name  \\\n",
       "86909      88   17.0  Maipo Valley      NaN      NaN         NaN   \n",
       "\n",
       "      taster_twitter_handle                        title variety  winery  \n",
       "86909                   NaN  Carmen 1999  (Maipo Valley)     NaN  Carmen  "
      ]
     },
     "execution_count": 165,
     "metadata": {},
     "output_type": "execute_result"
    }
   ],
   "source": [
    "df[df.variety.isna()]"
   ]
  },
  {
   "cell_type": "markdown",
   "metadata": {},
   "source": [
    "There is one row in the dataframe where the variety of wine is NaN this means that it would not have label to predict so we will drop it from our dataset."
   ]
  },
  {
   "cell_type": "code",
   "execution_count": 166,
   "metadata": {},
   "outputs": [],
   "source": [
    "df.drop(df[df.variety.isna()].index, inplace = True)"
   ]
  },
  {
   "cell_type": "code",
   "execution_count": 167,
   "metadata": {},
   "outputs": [
    {
     "data": {
      "text/html": [
       "<div>\n",
       "<style scoped>\n",
       "    .dataframe tbody tr th:only-of-type {\n",
       "        vertical-align: middle;\n",
       "    }\n",
       "\n",
       "    .dataframe tbody tr th {\n",
       "        vertical-align: top;\n",
       "    }\n",
       "\n",
       "    .dataframe thead th {\n",
       "        text-align: right;\n",
       "    }\n",
       "</style>\n",
       "<table border=\"1\" class=\"dataframe\">\n",
       "  <thead>\n",
       "    <tr style=\"text-align: right;\">\n",
       "      <th></th>\n",
       "      <th>country</th>\n",
       "      <th>description</th>\n",
       "      <th>designation</th>\n",
       "      <th>points</th>\n",
       "      <th>price</th>\n",
       "      <th>province</th>\n",
       "      <th>region_1</th>\n",
       "      <th>region_2</th>\n",
       "      <th>taster_name</th>\n",
       "      <th>taster_twitter_handle</th>\n",
       "      <th>title</th>\n",
       "      <th>variety</th>\n",
       "      <th>winery</th>\n",
       "    </tr>\n",
       "  </thead>\n",
       "  <tbody>\n",
       "  </tbody>\n",
       "</table>\n",
       "</div>"
      ],
      "text/plain": [
       "Empty DataFrame\n",
       "Columns: [country, description, designation, points, price, province, region_1, region_2, taster_name, taster_twitter_handle, title, variety, winery]\n",
       "Index: []"
      ]
     },
     "execution_count": 167,
     "metadata": {},
     "output_type": "execute_result"
    }
   ],
   "source": [
    "df[df.variety.isna()]"
   ]
  },
  {
   "cell_type": "markdown",
   "metadata": {},
   "source": [
    "How many different varieties of wine are in the dataset?"
   ]
  },
  {
   "cell_type": "code",
   "execution_count": 168,
   "metadata": {
    "scrolled": true
   },
   "outputs": [
    {
     "data": {
      "text/plain": [
       "693"
      ]
     },
     "execution_count": 168,
     "metadata": {},
     "output_type": "execute_result"
    }
   ],
   "source": [
    "df.variety.nunique()"
   ]
  },
  {
   "cell_type": "markdown",
   "metadata": {},
   "source": [
    "What does the distribution of wine variety counts look like?"
   ]
  },
  {
   "cell_type": "code",
   "execution_count": 169,
   "metadata": {},
   "outputs": [
    {
     "data": {
      "text/plain": [
       "Pinot Noir                      12484\n",
       "Chardonnay                      10895\n",
       "Cabernet Sauvignon               8793\n",
       "Red Blend                        8307\n",
       "Bordeaux-style Red Blend         5044\n",
       "Riesling                         4894\n",
       "Sauvignon Blanc                  4782\n",
       "Syrah                            4025\n",
       "Rosé                             3260\n",
       "Merlot                           3026\n",
       "Zinfandel                        2708\n",
       "Malbec                           2538\n",
       "Sangiovese                       2271\n",
       "Portuguese Red                   2180\n",
       "Nebbiolo                         2175\n",
       "White Blend                      2165\n",
       "Sparkling Blend                  2010\n",
       "Tempranillo                      1745\n",
       "Pinot Gris                       1388\n",
       "Rhône-style Red Blend            1386\n",
       "Cabernet Franc                   1284\n",
       "Grüner Veltliner                 1142\n",
       "Champagne Blend                  1065\n",
       "Pinot Grigio                     1002\n",
       "Portuguese White                  986\n",
       "Viognier                          979\n",
       "Gewürztraminer                    952\n",
       "Gamay                             835\n",
       "Shiraz                            788\n",
       "Petite Sirah                      768\n",
       "                                ...  \n",
       "Sauvignon Musqué                    1\n",
       "Sauvignon Blanc-Assyrtiko           1\n",
       "Barbera-Nebbiolo                    1\n",
       "Biancale                            1\n",
       "Gros Plant                          1\n",
       "Grignolino                          1\n",
       "Mavroudi                            1\n",
       "Paralleda                           1\n",
       "Cococciola                          1\n",
       "Riesling-Chardonnay                 1\n",
       "Shiraz-Roussanne                    1\n",
       "Aidani                              1\n",
       "Pinot Grigio-Sauvignon Blanc        1\n",
       "Sideritis                           1\n",
       "Catalanesca                         1\n",
       "Pinot Blanc-Viognier                1\n",
       "Syrah-Grenache-Viognier             1\n",
       "Franconia                           1\n",
       "Siegerrebe                          1\n",
       "Babosa Negro                        1\n",
       "Merlot-Grenache                     1\n",
       "Vranac                              1\n",
       "Verdil                              1\n",
       "Parraleta                           1\n",
       "Forcallà                            1\n",
       "Blauburgunder                       1\n",
       "Sauvignon-Sémillon                  1\n",
       "Cabernet-Shiraz                     1\n",
       "Caprettone                          1\n",
       "Chardonel                           1\n",
       "Name: variety, Length: 693, dtype: int64"
      ]
     },
     "execution_count": 169,
     "metadata": {},
     "output_type": "execute_result"
    }
   ],
   "source": [
    "df.variety.value_counts()"
   ]
  },
  {
   "cell_type": "markdown",
   "metadata": {},
   "source": [
    "We are going to drop from the data set all of the wines that have a count of 1, because we want to train our predictive model using a greater sample size of reviews.\n",
    "\n",
    "To look at a good sample size for the model, what if we use wines that have at least 100 reviews?"
   ]
  },
  {
   "cell_type": "code",
   "execution_count": 170,
   "metadata": {},
   "outputs": [
    {
     "data": {
      "text/plain": [
       "88"
      ]
     },
     "execution_count": 170,
     "metadata": {},
     "output_type": "execute_result"
    }
   ],
   "source": [
    "(df.variety.value_counts() > 100).sum()"
   ]
  },
  {
   "cell_type": "markdown",
   "metadata": {},
   "source": [
    "This takes our wine count from 693 varieties to 88. \n",
    "\n",
    "To start with let's try to predict varieties that are in the top 10 value counts."
   ]
  },
  {
   "cell_type": "code",
   "execution_count": 171,
   "metadata": {},
   "outputs": [],
   "source": [
    "top_ten_variety = df.variety.value_counts()[0:11].index.values"
   ]
  },
  {
   "cell_type": "markdown",
   "metadata": {},
   "source": [
    "Create a new dataset that only contains these varieties of wine."
   ]
  },
  {
   "cell_type": "code",
   "execution_count": 172,
   "metadata": {},
   "outputs": [
    {
     "data": {
      "text/plain": [
       "(68218, 13)"
      ]
     },
     "execution_count": 172,
     "metadata": {},
     "output_type": "execute_result"
    }
   ],
   "source": [
    "df = df[df.variety.isin(top_ten_variety)]\n",
    "df.shape"
   ]
  },
  {
   "cell_type": "markdown",
   "metadata": {},
   "source": [
    "Did this have an effect on the distribution of price?"
   ]
  },
  {
   "cell_type": "code",
   "execution_count": 173,
   "metadata": {},
   "outputs": [
    {
     "data": {
      "text/plain": [
       "count    68218.000000\n",
       "mean        33.437069\n",
       "std         20.372339\n",
       "min          4.000000\n",
       "25%         18.000000\n",
       "50%         28.000000\n",
       "75%         45.000000\n",
       "max        117.000000\n",
       "Name: price, dtype: float64"
      ]
     },
     "execution_count": 173,
     "metadata": {},
     "output_type": "execute_result"
    }
   ],
   "source": [
    "df.price.describe()"
   ]
  },
  {
   "cell_type": "code",
   "execution_count": 174,
   "metadata": {},
   "outputs": [
    {
     "data": {
      "text/plain": [
       "<matplotlib.axes._subplots.AxesSubplot at 0x1a27482208>"
      ]
     },
     "execution_count": 174,
     "metadata": {},
     "output_type": "execute_result"
    },
    {
     "data": {
      "image/png": "[encoded data removed]",
      "text/plain": [
       "<Figure size 432x288 with 1 Axes>"
      ]
     },
     "metadata": {
      "needs_background": "light"
     },
     "output_type": "display_data"
    }
   ],
   "source": [
    "df.price.hist()"
   ]
  },
  {
   "cell_type": "markdown",
   "metadata": {},
   "source": [
    "Price distibution stayed relatively the same."
   ]
  },
  {
   "cell_type": "markdown",
   "metadata": {},
   "source": [
    "Are the top five tasters the same?"
   ]
  },
  {
   "cell_type": "code",
   "execution_count": 175,
   "metadata": {},
   "outputs": [
    {
     "data": {
      "text/plain": [
       "Text(0, 0.5, 'count')"
      ]
     },
     "execution_count": 175,
     "metadata": {},
     "output_type": "execute_result"
    },
    {
     "data": {
      "image/png": "[encoded data removed]",
      "text/plain": [
       "<Figure size 864x432 with 1 Axes>"
      ]
     },
     "metadata": {
      "needs_background": "light"
     },
     "output_type": "display_data"
    }
   ],
   "source": [
    "plt.figure(figsize = (12,6))\n",
    "sns.barplot(df.taster_name.value_counts()[0:5].index, df.taster_name.value_counts()[0:5], color = 'black'),\n",
    "plt.ylabel('count')"
   ]
  },
  {
   "cell_type": "markdown",
   "metadata": {},
   "source": [
    "How many countries are the wines from?"
   ]
  },
  {
   "cell_type": "code",
   "execution_count": 176,
   "metadata": {},
   "outputs": [
    {
     "data": {
      "text/plain": [
       "40"
      ]
     },
     "execution_count": 176,
     "metadata": {},
     "output_type": "execute_result"
    }
   ],
   "source": [
    "df.country.nunique()"
   ]
  },
  {
   "cell_type": "code",
   "execution_count": 177,
   "metadata": {},
   "outputs": [
    {
     "data": {
      "text/plain": [
       "US                40898\n",
       "France            10147\n",
       "Italy              3942\n",
       "Chile              3313\n",
       "Germany            1761\n",
       "Argentina          1457\n",
       "New Zealand        1267\n",
       "Spain              1156\n",
       "Australia          1116\n",
       "Austria             870\n",
       "South Africa        768\n",
       "Israel              345\n",
       "Portugal            340\n",
       "Canada              164\n",
       "Greece              117\n",
       "Bulgaria            110\n",
       "Romania              82\n",
       "Mexico               43\n",
       "Uruguay              35\n",
       "Turkey               35\n",
       "Slovenia             35\n",
       "Moldova              30\n",
       "Hungary              23\n",
       "England              23\n",
       "Brazil               22\n",
       "Lebanon              22\n",
       "Morocco              20\n",
       "Croatia              10\n",
       "Peru                  7\n",
       "Serbia                6\n",
       "Ukraine               6\n",
       "Georgia               5\n",
       "Czech Republic        5\n",
       "Macedonia             5\n",
       "Cyprus                3\n",
       "India                 2\n",
       "Luxembourg            2\n",
       "Switzerland           1\n",
       "Slovakia              1\n",
       "Armenia               1\n",
       "Name: country, dtype: int64"
      ]
     },
     "execution_count": 177,
     "metadata": {},
     "output_type": "execute_result"
    }
   ],
   "source": [
    "df.country.value_counts()"
   ]
  },
  {
   "cell_type": "code",
   "execution_count": 178,
   "metadata": {},
   "outputs": [
    {
     "data": {
      "text/plain": [
       "21"
      ]
     },
     "execution_count": 178,
     "metadata": {},
     "output_type": "execute_result"
    }
   ],
   "source": [
    "df.points.nunique()"
   ]
  },
  {
   "cell_type": "code",
   "execution_count": 179,
   "metadata": {},
   "outputs": [
    {
     "data": {
      "text/plain": [
       "80      223\n",
       "81      428\n",
       "82     1122\n",
       "83     1710\n",
       "84     3643\n",
       "85     5025\n",
       "86     6383\n",
       "87     8545\n",
       "88     8637\n",
       "89     6031\n",
       "90     8263\n",
       "91     6379\n",
       "92     5296\n",
       "93     3583\n",
       "94     1965\n",
       "95      692\n",
       "96      209\n",
       "97       60\n",
       "98       16\n",
       "99        6\n",
       "100       2\n",
       "Name: points, dtype: int64"
      ]
     },
     "execution_count": 179,
     "metadata": {},
     "output_type": "execute_result"
    }
   ],
   "source": [
    "df.points.value_counts().sort_index()"
   ]
  },
  {
   "cell_type": "code",
   "execution_count": 180,
   "metadata": {},
   "outputs": [
    {
     "data": {
      "text/plain": [
       "<matplotlib.axes._subplots.AxesSubplot at 0x1a258e0b70>"
      ]
     },
     "execution_count": 180,
     "metadata": {},
     "output_type": "execute_result"
    },
    {
     "data": {
      "image/png": "[encoded data removed]",
      "text/plain": [
       "<Figure size 432x288 with 1 Axes>"
      ]
     },
     "metadata": {
      "needs_background": "light"
     },
     "output_type": "display_data"
    }
   ],
   "source": [
    "df.points.hist()"
   ]
  },
  {
   "cell_type": "code",
   "execution_count": 181,
   "metadata": {},
   "outputs": [
    {
     "data": {
      "text/plain": [
       "324"
      ]
     },
     "execution_count": 181,
     "metadata": {},
     "output_type": "execute_result"
    }
   ],
   "source": [
    "df.province.nunique()"
   ]
  },
  {
   "cell_type": "code",
   "execution_count": 182,
   "metadata": {},
   "outputs": [
    {
     "data": {
      "text/plain": [
       "858"
      ]
     },
     "execution_count": 182,
     "metadata": {},
     "output_type": "execute_result"
    }
   ],
   "source": [
    "df.region_1.nunique()"
   ]
  },
  {
   "cell_type": "code",
   "execution_count": 183,
   "metadata": {},
   "outputs": [
    {
     "data": {
      "text/plain": [
       "17"
      ]
     },
     "execution_count": 183,
     "metadata": {},
     "output_type": "execute_result"
    }
   ],
   "source": [
    "df.region_2.nunique()"
   ]
  },
  {
   "cell_type": "code",
   "execution_count": 184,
   "metadata": {},
   "outputs": [
    {
     "data": {
      "text/plain": [
       "<BarContainer object of 6 artists>"
      ]
     },
     "execution_count": 184,
     "metadata": {},
     "output_type": "execute_result"
    },
    {
     "data": {
      "image/png": "[encoded data removed]",
      "text/plain": [
       "<Figure size 864x432 with 1 Axes>"
      ]
     },
     "metadata": {
      "needs_background": "light"
     },
     "output_type": "display_data"
    }
   ],
   "source": [
    "plt.figure(figsize = (12,6))\n",
    "plt.bar(x = df.region_2.value_counts()[0:6].index, height = df.region_2.value_counts()[0:6].values)"
   ]
  },
  {
   "cell_type": "code",
   "execution_count": 185,
   "metadata": {},
   "outputs": [
    {
     "data": {
      "text/html": [
       "<div>\n",
       "<style scoped>\n",
       "    .dataframe tbody tr th:only-of-type {\n",
       "        vertical-align: middle;\n",
       "    }\n",
       "\n",
       "    .dataframe tbody tr th {\n",
       "        vertical-align: top;\n",
       "    }\n",
       "\n",
       "    .dataframe thead th {\n",
       "        text-align: right;\n",
       "    }\n",
       "</style>\n",
       "<table border=\"1\" class=\"dataframe\">\n",
       "  <thead>\n",
       "    <tr style=\"text-align: right;\">\n",
       "      <th></th>\n",
       "      <th>country</th>\n",
       "      <th>description</th>\n",
       "      <th>designation</th>\n",
       "      <th>points</th>\n",
       "      <th>price</th>\n",
       "      <th>province</th>\n",
       "      <th>region_1</th>\n",
       "      <th>region_2</th>\n",
       "      <th>taster_name</th>\n",
       "      <th>taster_twitter_handle</th>\n",
       "      <th>title</th>\n",
       "      <th>variety</th>\n",
       "      <th>winery</th>\n",
       "    </tr>\n",
       "  </thead>\n",
       "  <tbody>\n",
       "    <tr>\n",
       "      <th>3</th>\n",
       "      <td>US</td>\n",
       "      <td>Pineapple rind, lemon pith and orange blossom ...</td>\n",
       "      <td>Reserve Late Harvest</td>\n",
       "      <td>87</td>\n",
       "      <td>13.0</td>\n",
       "      <td>Michigan</td>\n",
       "      <td>Lake Michigan Shore</td>\n",
       "      <td>NaN</td>\n",
       "      <td>Alexander Peartree</td>\n",
       "      <td>NaN</td>\n",
       "      <td>St. Julian 2013 Reserve Late Harvest Riesling ...</td>\n",
       "      <td>Riesling</td>\n",
       "      <td>St. Julian</td>\n",
       "    </tr>\n",
       "    <tr>\n",
       "      <th>4</th>\n",
       "      <td>US</td>\n",
       "      <td>Much like the regular bottling from 2012, this...</td>\n",
       "      <td>Vintner's Reserve Wild Child Block</td>\n",
       "      <td>87</td>\n",
       "      <td>65.0</td>\n",
       "      <td>Oregon</td>\n",
       "      <td>Willamette Valley</td>\n",
       "      <td>Willamette Valley</td>\n",
       "      <td>Paul Gregutt</td>\n",
       "      <td>@paulgwine</td>\n",
       "      <td>Sweet Cheeks 2012 Vintner's Reserve Wild Child...</td>\n",
       "      <td>Pinot Noir</td>\n",
       "      <td>Sweet Cheeks</td>\n",
       "    </tr>\n",
       "    <tr>\n",
       "      <th>10</th>\n",
       "      <td>US</td>\n",
       "      <td>Soft, supple plum envelopes an oaky structure ...</td>\n",
       "      <td>Mountain Cuvée</td>\n",
       "      <td>87</td>\n",
       "      <td>19.0</td>\n",
       "      <td>California</td>\n",
       "      <td>Napa Valley</td>\n",
       "      <td>Napa</td>\n",
       "      <td>Virginie Boone</td>\n",
       "      <td>@vboone</td>\n",
       "      <td>Kirkland Signature 2011 Mountain Cuvée Caberne...</td>\n",
       "      <td>Cabernet Sauvignon</td>\n",
       "      <td>Kirkland Signature</td>\n",
       "    </tr>\n",
       "    <tr>\n",
       "      <th>12</th>\n",
       "      <td>US</td>\n",
       "      <td>Slightly reduced, this wine offers a chalky, t...</td>\n",
       "      <td>NaN</td>\n",
       "      <td>87</td>\n",
       "      <td>34.0</td>\n",
       "      <td>California</td>\n",
       "      <td>Alexander Valley</td>\n",
       "      <td>Sonoma</td>\n",
       "      <td>Virginie Boone</td>\n",
       "      <td>@vboone</td>\n",
       "      <td>Louis M. Martini 2012 Cabernet Sauvignon (Alex...</td>\n",
       "      <td>Cabernet Sauvignon</td>\n",
       "      <td>Louis M. Martini</td>\n",
       "    </tr>\n",
       "    <tr>\n",
       "      <th>14</th>\n",
       "      <td>US</td>\n",
       "      <td>Building on 150 years and six generations of w...</td>\n",
       "      <td>NaN</td>\n",
       "      <td>87</td>\n",
       "      <td>12.0</td>\n",
       "      <td>California</td>\n",
       "      <td>Central Coast</td>\n",
       "      <td>Central Coast</td>\n",
       "      <td>Matt Kettmann</td>\n",
       "      <td>@mattkettmann</td>\n",
       "      <td>Mirassou 2012 Chardonnay (Central Coast)</td>\n",
       "      <td>Chardonnay</td>\n",
       "      <td>Mirassou</td>\n",
       "    </tr>\n",
       "  </tbody>\n",
       "</table>\n",
       "</div>"
      ],
      "text/plain": [
       "   country                                        description  \\\n",
       "3       US  Pineapple rind, lemon pith and orange blossom ...   \n",
       "4       US  Much like the regular bottling from 2012, this...   \n",
       "10      US  Soft, supple plum envelopes an oaky structure ...   \n",
       "12      US  Slightly reduced, this wine offers a chalky, t...   \n",
       "14      US  Building on 150 years and six generations of w...   \n",
       "\n",
       "                           designation  points  price    province  \\\n",
       "3                 Reserve Late Harvest      87   13.0    Michigan   \n",
       "4   Vintner's Reserve Wild Child Block      87   65.0      Oregon   \n",
       "10                      Mountain Cuvée      87   19.0  California   \n",
       "12                                 NaN      87   34.0  California   \n",
       "14                                 NaN      87   12.0  California   \n",
       "\n",
       "               region_1           region_2         taster_name  \\\n",
       "3   Lake Michigan Shore                NaN  Alexander Peartree   \n",
       "4     Willamette Valley  Willamette Valley        Paul Gregutt   \n",
       "10          Napa Valley               Napa      Virginie Boone   \n",
       "12     Alexander Valley             Sonoma      Virginie Boone   \n",
       "14        Central Coast      Central Coast       Matt Kettmann   \n",
       "\n",
       "   taster_twitter_handle                                              title  \\\n",
       "3                    NaN  St. Julian 2013 Reserve Late Harvest Riesling ...   \n",
       "4            @paulgwine   Sweet Cheeks 2012 Vintner's Reserve Wild Child...   \n",
       "10               @vboone  Kirkland Signature 2011 Mountain Cuvée Caberne...   \n",
       "12               @vboone  Louis M. Martini 2012 Cabernet Sauvignon (Alex...   \n",
       "14         @mattkettmann           Mirassou 2012 Chardonnay (Central Coast)   \n",
       "\n",
       "               variety              winery  \n",
       "3             Riesling          St. Julian  \n",
       "4           Pinot Noir        Sweet Cheeks  \n",
       "10  Cabernet Sauvignon  Kirkland Signature  \n",
       "12  Cabernet Sauvignon    Louis M. Martini  \n",
       "14          Chardonnay            Mirassou  "
      ]
     },
     "execution_count": 185,
     "metadata": {},
     "output_type": "execute_result"
    }
   ],
   "source": [
    "df.head()"
   ]
  },
  {
   "cell_type": "code",
   "execution_count": 191,
   "metadata": {},
   "outputs": [],
   "source": [
    "# Reset the index column to start-over\n",
    "df.reset_index(inplace = True)"
   ]
  },
  {
   "cell_type": "code",
   "execution_count": 192,
   "metadata": {},
   "outputs": [],
   "source": [
    "df.drop(columns = ['index'], inplace = True)"
   ]
  },
  {
   "cell_type": "code",
   "execution_count": 193,
   "metadata": {},
   "outputs": [
    {
     "data": {
      "text/html": [
       "<div>\n",
       "<style scoped>\n",
       "    .dataframe tbody tr th:only-of-type {\n",
       "        vertical-align: middle;\n",
       "    }\n",
       "\n",
       "    .dataframe tbody tr th {\n",
       "        vertical-align: top;\n",
       "    }\n",
       "\n",
       "    .dataframe thead th {\n",
       "        text-align: right;\n",
       "    }\n",
       "</style>\n",
       "<table border=\"1\" class=\"dataframe\">\n",
       "  <thead>\n",
       "    <tr style=\"text-align: right;\">\n",
       "      <th></th>\n",
       "      <th>country</th>\n",
       "      <th>description</th>\n",
       "      <th>designation</th>\n",
       "      <th>points</th>\n",
       "      <th>price</th>\n",
       "      <th>province</th>\n",
       "      <th>region_1</th>\n",
       "      <th>region_2</th>\n",
       "      <th>taster_name</th>\n",
       "      <th>taster_twitter_handle</th>\n",
       "      <th>title</th>\n",
       "      <th>variety</th>\n",
       "      <th>winery</th>\n",
       "    </tr>\n",
       "  </thead>\n",
       "  <tbody>\n",
       "    <tr>\n",
       "      <th>0</th>\n",
       "      <td>US</td>\n",
       "      <td>Pineapple rind, lemon pith and orange blossom ...</td>\n",
       "      <td>Reserve Late Harvest</td>\n",
       "      <td>87</td>\n",
       "      <td>13.0</td>\n",
       "      <td>Michigan</td>\n",
       "      <td>Lake Michigan Shore</td>\n",
       "      <td>NaN</td>\n",
       "      <td>Alexander Peartree</td>\n",
       "      <td>NaN</td>\n",
       "      <td>St. Julian 2013 Reserve Late Harvest Riesling ...</td>\n",
       "      <td>Riesling</td>\n",
       "      <td>St. Julian</td>\n",
       "    </tr>\n",
       "    <tr>\n",
       "      <th>1</th>\n",
       "      <td>US</td>\n",
       "      <td>Much like the regular bottling from 2012, this...</td>\n",
       "      <td>Vintner's Reserve Wild Child Block</td>\n",
       "      <td>87</td>\n",
       "      <td>65.0</td>\n",
       "      <td>Oregon</td>\n",
       "      <td>Willamette Valley</td>\n",
       "      <td>Willamette Valley</td>\n",
       "      <td>Paul Gregutt</td>\n",
       "      <td>@paulgwine</td>\n",
       "      <td>Sweet Cheeks 2012 Vintner's Reserve Wild Child...</td>\n",
       "      <td>Pinot Noir</td>\n",
       "      <td>Sweet Cheeks</td>\n",
       "    </tr>\n",
       "    <tr>\n",
       "      <th>2</th>\n",
       "      <td>US</td>\n",
       "      <td>Soft, supple plum envelopes an oaky structure ...</td>\n",
       "      <td>Mountain Cuvée</td>\n",
       "      <td>87</td>\n",
       "      <td>19.0</td>\n",
       "      <td>California</td>\n",
       "      <td>Napa Valley</td>\n",
       "      <td>Napa</td>\n",
       "      <td>Virginie Boone</td>\n",
       "      <td>@vboone</td>\n",
       "      <td>Kirkland Signature 2011 Mountain Cuvée Caberne...</td>\n",
       "      <td>Cabernet Sauvignon</td>\n",
       "      <td>Kirkland Signature</td>\n",
       "    </tr>\n",
       "    <tr>\n",
       "      <th>3</th>\n",
       "      <td>US</td>\n",
       "      <td>Slightly reduced, this wine offers a chalky, t...</td>\n",
       "      <td>NaN</td>\n",
       "      <td>87</td>\n",
       "      <td>34.0</td>\n",
       "      <td>California</td>\n",
       "      <td>Alexander Valley</td>\n",
       "      <td>Sonoma</td>\n",
       "      <td>Virginie Boone</td>\n",
       "      <td>@vboone</td>\n",
       "      <td>Louis M. Martini 2012 Cabernet Sauvignon (Alex...</td>\n",
       "      <td>Cabernet Sauvignon</td>\n",
       "      <td>Louis M. Martini</td>\n",
       "    </tr>\n",
       "    <tr>\n",
       "      <th>4</th>\n",
       "      <td>US</td>\n",
       "      <td>Building on 150 years and six generations of w...</td>\n",
       "      <td>NaN</td>\n",
       "      <td>87</td>\n",
       "      <td>12.0</td>\n",
       "      <td>California</td>\n",
       "      <td>Central Coast</td>\n",
       "      <td>Central Coast</td>\n",
       "      <td>Matt Kettmann</td>\n",
       "      <td>@mattkettmann</td>\n",
       "      <td>Mirassou 2012 Chardonnay (Central Coast)</td>\n",
       "      <td>Chardonnay</td>\n",
       "      <td>Mirassou</td>\n",
       "    </tr>\n",
       "  </tbody>\n",
       "</table>\n",
       "</div>"
      ],
      "text/plain": [
       "  country                                        description  \\\n",
       "0      US  Pineapple rind, lemon pith and orange blossom ...   \n",
       "1      US  Much like the regular bottling from 2012, this...   \n",
       "2      US  Soft, supple plum envelopes an oaky structure ...   \n",
       "3      US  Slightly reduced, this wine offers a chalky, t...   \n",
       "4      US  Building on 150 years and six generations of w...   \n",
       "\n",
       "                          designation  points  price    province  \\\n",
       "0                Reserve Late Harvest      87   13.0    Michigan   \n",
       "1  Vintner's Reserve Wild Child Block      87   65.0      Oregon   \n",
       "2                      Mountain Cuvée      87   19.0  California   \n",
       "3                                 NaN      87   34.0  California   \n",
       "4                                 NaN      87   12.0  California   \n",
       "\n",
       "              region_1           region_2         taster_name  \\\n",
       "0  Lake Michigan Shore                NaN  Alexander Peartree   \n",
       "1    Willamette Valley  Willamette Valley        Paul Gregutt   \n",
       "2          Napa Valley               Napa      Virginie Boone   \n",
       "3     Alexander Valley             Sonoma      Virginie Boone   \n",
       "4        Central Coast      Central Coast       Matt Kettmann   \n",
       "\n",
       "  taster_twitter_handle                                              title  \\\n",
       "0                   NaN  St. Julian 2013 Reserve Late Harvest Riesling ...   \n",
       "1           @paulgwine   Sweet Cheeks 2012 Vintner's Reserve Wild Child...   \n",
       "2               @vboone  Kirkland Signature 2011 Mountain Cuvée Caberne...   \n",
       "3               @vboone  Louis M. Martini 2012 Cabernet Sauvignon (Alex...   \n",
       "4         @mattkettmann           Mirassou 2012 Chardonnay (Central Coast)   \n",
       "\n",
       "              variety              winery  \n",
       "0            Riesling          St. Julian  \n",
       "1          Pinot Noir        Sweet Cheeks  \n",
       "2  Cabernet Sauvignon  Kirkland Signature  \n",
       "3  Cabernet Sauvignon    Louis M. Martini  \n",
       "4          Chardonnay            Mirassou  "
      ]
     },
     "execution_count": 193,
     "metadata": {},
     "output_type": "execute_result"
    }
   ],
   "source": [
    "df.head()"
   ]
  },
  {
   "cell_type": "code",
   "execution_count": 194,
   "metadata": {},
   "outputs": [
    {
     "name": "stdout",
     "output_type": "stream",
     "text": [
      "<class 'pandas.core.frame.DataFrame'>\n",
      "RangeIndex: 68218 entries, 0 to 68217\n",
      "Data columns (total 13 columns):\n",
      "country                  68195 non-null object\n",
      "description              68218 non-null object\n",
      "designation              47294 non-null object\n",
      "points                   68218 non-null int64\n",
      "price                    68218 non-null float64\n",
      "province                 68195 non-null object\n",
      "region_1                 58661 non-null object\n",
      "region_2                 38251 non-null object\n",
      "taster_name              53025 non-null object\n",
      "taster_twitter_handle    49622 non-null object\n",
      "title                    68218 non-null object\n",
      "variety                  68218 non-null object\n",
      "winery                   68218 non-null object\n",
      "dtypes: float64(1), int64(1), object(11)\n",
      "memory usage: 6.8+ MB\n"
     ]
    }
   ],
   "source": [
    "df.info()"
   ]
  },
  {
   "cell_type": "code",
   "execution_count": 195,
   "metadata": {},
   "outputs": [
    {
     "data": {
      "text/plain": [
       "Pinot Noir                  12484\n",
       "Chardonnay                  10895\n",
       "Cabernet Sauvignon           8793\n",
       "Red Blend                    8307\n",
       "Bordeaux-style Red Blend     5044\n",
       "Riesling                     4894\n",
       "Sauvignon Blanc              4782\n",
       "Syrah                        4025\n",
       "Rosé                         3260\n",
       "Merlot                       3026\n",
       "Zinfandel                    2708\n",
       "Name: variety, dtype: int64"
      ]
     },
     "execution_count": 195,
     "metadata": {},
     "output_type": "execute_result"
    }
   ],
   "source": [
    "df.variety.value_counts()"
   ]
  },
  {
   "cell_type": "code",
   "execution_count": 196,
   "metadata": {},
   "outputs": [
    {
     "data": {
      "text/html": [
       "<div>\n",
       "<style scoped>\n",
       "    .dataframe tbody tr th:only-of-type {\n",
       "        vertical-align: middle;\n",
       "    }\n",
       "\n",
       "    .dataframe tbody tr th {\n",
       "        vertical-align: top;\n",
       "    }\n",
       "\n",
       "    .dataframe thead th {\n",
       "        text-align: right;\n",
       "    }\n",
       "</style>\n",
       "<table border=\"1\" class=\"dataframe\">\n",
       "  <thead>\n",
       "    <tr style=\"text-align: right;\">\n",
       "      <th></th>\n",
       "      <th>designation</th>\n",
       "      <th>title</th>\n",
       "    </tr>\n",
       "  </thead>\n",
       "  <tbody>\n",
       "    <tr>\n",
       "      <th>0</th>\n",
       "      <td>Reserve Late Harvest</td>\n",
       "      <td>St. Julian 2013 Reserve Late Harvest Riesling ...</td>\n",
       "    </tr>\n",
       "    <tr>\n",
       "      <th>1</th>\n",
       "      <td>Vintner's Reserve Wild Child Block</td>\n",
       "      <td>Sweet Cheeks 2012 Vintner's Reserve Wild Child...</td>\n",
       "    </tr>\n",
       "    <tr>\n",
       "      <th>2</th>\n",
       "      <td>Mountain Cuvée</td>\n",
       "      <td>Kirkland Signature 2011 Mountain Cuvée Caberne...</td>\n",
       "    </tr>\n",
       "    <tr>\n",
       "      <th>3</th>\n",
       "      <td>NaN</td>\n",
       "      <td>Louis M. Martini 2012 Cabernet Sauvignon (Alex...</td>\n",
       "    </tr>\n",
       "    <tr>\n",
       "      <th>4</th>\n",
       "      <td>NaN</td>\n",
       "      <td>Mirassou 2012 Chardonnay (Central Coast)</td>\n",
       "    </tr>\n",
       "    <tr>\n",
       "      <th>5</th>\n",
       "      <td>Devon</td>\n",
       "      <td>Richard Böcking 2013 Devon Riesling (Mosel)</td>\n",
       "    </tr>\n",
       "    <tr>\n",
       "      <th>6</th>\n",
       "      <td>Vin de Maison</td>\n",
       "      <td>Quiévremont 2012 Vin de Maison Red (Virginia)</td>\n",
       "    </tr>\n",
       "    <tr>\n",
       "      <th>7</th>\n",
       "      <td>NaN</td>\n",
       "      <td>Acrobat 2013 Pinot Noir (Oregon)</td>\n",
       "    </tr>\n",
       "    <tr>\n",
       "      <th>8</th>\n",
       "      <td>Signature Selection</td>\n",
       "      <td>Bianchi 2011 Signature Selection Merlot (Paso ...</td>\n",
       "    </tr>\n",
       "    <tr>\n",
       "      <th>9</th>\n",
       "      <td>King Ridge Vineyard</td>\n",
       "      <td>Castello di Amorosa 2011 King Ridge Vineyard P...</td>\n",
       "    </tr>\n",
       "    <tr>\n",
       "      <th>10</th>\n",
       "      <td>Mascaria Barricato</td>\n",
       "      <td>Terre di Giurfo 2011 Mascaria Barricato  (Cera...</td>\n",
       "    </tr>\n",
       "    <tr>\n",
       "      <th>11</th>\n",
       "      <td>Puma Springs Vineyard</td>\n",
       "      <td>Envolve 2010 Puma Springs Vineyard Red (Dry Cr...</td>\n",
       "    </tr>\n",
       "    <tr>\n",
       "      <th>12</th>\n",
       "      <td>NaN</td>\n",
       "      <td>Envolve 2011 Sauvignon Blanc (Sonoma Valley)</td>\n",
       "    </tr>\n",
       "    <tr>\n",
       "      <th>13</th>\n",
       "      <td>Hyland</td>\n",
       "      <td>Erath 2010 Hyland Pinot Noir (McMinnville)</td>\n",
       "    </tr>\n",
       "    <tr>\n",
       "      <th>14</th>\n",
       "      <td>Missoni</td>\n",
       "      <td>Feudi del Pisciotto 2010 Missoni Cabernet Sauv...</td>\n",
       "    </tr>\n",
       "    <tr>\n",
       "      <th>15</th>\n",
       "      <td>NaN</td>\n",
       "      <td>Hawkins Cellars 2009 Pinot Noir (Willamette Va...</td>\n",
       "    </tr>\n",
       "    <tr>\n",
       "      <th>16</th>\n",
       "      <td>NaN</td>\n",
       "      <td>Robert Hall 2011 Sauvignon Blanc (Paso Robles)</td>\n",
       "    </tr>\n",
       "    <tr>\n",
       "      <th>17</th>\n",
       "      <td>NaN</td>\n",
       "      <td>Sundance 2011 Merlot (Maule Valley)</td>\n",
       "    </tr>\n",
       "    <tr>\n",
       "      <th>18</th>\n",
       "      <td>#SocialSecret</td>\n",
       "      <td>Tarara 2010 #SocialSecret Red (Virginia)</td>\n",
       "    </tr>\n",
       "    <tr>\n",
       "      <th>19</th>\n",
       "      <td>NaN</td>\n",
       "      <td>The White Knight 2011 Riesling (Lake County)</td>\n",
       "    </tr>\n",
       "    <tr>\n",
       "      <th>20</th>\n",
       "      <td>NaN</td>\n",
       "      <td>Trump 2011 Sauvignon Blanc (Monticello)</td>\n",
       "    </tr>\n",
       "    <tr>\n",
       "      <th>21</th>\n",
       "      <td>Estate Bottled</td>\n",
       "      <td>RustRidge 2010 Estate Bottled Chardonnay (Napa...</td>\n",
       "    </tr>\n",
       "    <tr>\n",
       "      <th>22</th>\n",
       "      <td>NaN</td>\n",
       "      <td>Souverain 2010 Chardonnay (North Coast)</td>\n",
       "    </tr>\n",
       "    <tr>\n",
       "      <th>23</th>\n",
       "      <td>Reserve</td>\n",
       "      <td>Tres Palacios 2011 Reserve Pinot Noir (Maipo V...</td>\n",
       "    </tr>\n",
       "    <tr>\n",
       "      <th>24</th>\n",
       "      <td>Estate</td>\n",
       "      <td>Okapi 2013 Estate Cabernet Sauvignon (Napa Val...</td>\n",
       "    </tr>\n",
       "    <tr>\n",
       "      <th>25</th>\n",
       "      <td>Golden Horn</td>\n",
       "      <td>Sevtap 2015 Golden Horn Sauvignon Blanc (Santa...</td>\n",
       "    </tr>\n",
       "    <tr>\n",
       "      <th>26</th>\n",
       "      <td>NaN</td>\n",
       "      <td>Simonnet-Febvre 2015  Chablis</td>\n",
       "    </tr>\n",
       "    <tr>\n",
       "      <th>27</th>\n",
       "      <td>NaN</td>\n",
       "      <td>Vignerons des Terres Secrètes 2015  Mâcon-Mill...</td>\n",
       "    </tr>\n",
       "    <tr>\n",
       "      <th>28</th>\n",
       "      <td>Inspired</td>\n",
       "      <td>Basel Cellars 2013 Inspired Red (Columbia Vall...</td>\n",
       "    </tr>\n",
       "    <tr>\n",
       "      <th>29</th>\n",
       "      <td>NaN</td>\n",
       "      <td>Cocobon 2014 Red (California)</td>\n",
       "    </tr>\n",
       "    <tr>\n",
       "      <th>...</th>\n",
       "      <td>...</td>\n",
       "      <td>...</td>\n",
       "    </tr>\n",
       "    <tr>\n",
       "      <th>68188</th>\n",
       "      <td>Mith Red Wine</td>\n",
       "      <td>Balboa 2005 Mith Red Wine Red (Columbia Valley...</td>\n",
       "    </tr>\n",
       "    <tr>\n",
       "      <th>68189</th>\n",
       "      <td>Wehlener Sonnenuhr Spätlese</td>\n",
       "      <td>Dr. Loosen 2006 Wehlener Sonnenuhr Spätlese Ri...</td>\n",
       "    </tr>\n",
       "    <tr>\n",
       "      <th>68190</th>\n",
       "      <td>Reserve</td>\n",
       "      <td>Nicholas Cole Cellars 2004 Reserve Red (Walla ...</td>\n",
       "    </tr>\n",
       "    <tr>\n",
       "      <th>68191</th>\n",
       "      <td>Fiddlestix Vineyard</td>\n",
       "      <td>Pali 2006 Fiddlestix Vineyard Pinot Noir (Sta....</td>\n",
       "    </tr>\n",
       "    <tr>\n",
       "      <th>68192</th>\n",
       "      <td>Kranachberg</td>\n",
       "      <td>Sattlerhof 2006 Kranachberg Sauvignon Blanc (S...</td>\n",
       "    </tr>\n",
       "    <tr>\n",
       "      <th>68193</th>\n",
       "      <td>Erdener Treppchen Spätlese*</td>\n",
       "      <td>Stephan Ehlen 2006 Erdener Treppchen Spätlese*...</td>\n",
       "    </tr>\n",
       "    <tr>\n",
       "      <th>68194</th>\n",
       "      <td>Bernkasteler alte Badstube am Doctorberg Spätlese</td>\n",
       "      <td>Dr. Pauly Bergweiler 2006 Bernkasteler alte Ba...</td>\n",
       "    </tr>\n",
       "    <tr>\n",
       "      <th>68195</th>\n",
       "      <td>B Crux</td>\n",
       "      <td>O. Fournier 2005 B Crux Red (Uco Valley)</td>\n",
       "    </tr>\n",
       "    <tr>\n",
       "      <th>68196</th>\n",
       "      <td>Ash Hollow Vineyard</td>\n",
       "      <td>Reininger 2005 Ash Hollow Vineyard Syrah (Wall...</td>\n",
       "    </tr>\n",
       "    <tr>\n",
       "      <th>68197</th>\n",
       "      <td>Salmos Perpetual</td>\n",
       "      <td>Torres 2005 Salmos Perpetual Red (Priorat)</td>\n",
       "    </tr>\n",
       "    <tr>\n",
       "      <th>68198</th>\n",
       "      <td>NaN</td>\n",
       "      <td>Henri de Villamont 2005  Grands-Echezeaux</td>\n",
       "    </tr>\n",
       "    <tr>\n",
       "      <th>68199</th>\n",
       "      <td>Pasionado</td>\n",
       "      <td>Andeluna 2004 Pasionado Red (Uco Valley)</td>\n",
       "    </tr>\n",
       "    <tr>\n",
       "      <th>68200</th>\n",
       "      <td>NaN</td>\n",
       "      <td>Va Piano 2006 Syrah (Columbia Valley-Walla Wal...</td>\n",
       "    </tr>\n",
       "    <tr>\n",
       "      <th>68201</th>\n",
       "      <td>Premier Cru</td>\n",
       "      <td>Bouchard Père &amp; Fils 2005 Premier Cru  (Pommard)</td>\n",
       "    </tr>\n",
       "    <tr>\n",
       "      <th>68202</th>\n",
       "      <td>Watson Vineyard</td>\n",
       "      <td>Standish 2006 Watson Vineyard Chardonnay (Mend...</td>\n",
       "    </tr>\n",
       "    <tr>\n",
       "      <th>68203</th>\n",
       "      <td>NaN</td>\n",
       "      <td>Apriori 2013 Chardonnay (Mendocino County)</td>\n",
       "    </tr>\n",
       "    <tr>\n",
       "      <th>68204</th>\n",
       "      <td>NaN</td>\n",
       "      <td>Arrowood 2010 Cabernet Sauvignon (Sonoma County)</td>\n",
       "    </tr>\n",
       "    <tr>\n",
       "      <th>68205</th>\n",
       "      <td>Adènzia</td>\n",
       "      <td>Baglio del Cristo di Campobello 2012 Adènzia R...</td>\n",
       "    </tr>\n",
       "    <tr>\n",
       "      <th>68206</th>\n",
       "      <td>Dom</td>\n",
       "      <td>Bischöfliche Weingüter Trier 2013 Dom Riesling...</td>\n",
       "    </tr>\n",
       "    <tr>\n",
       "      <th>68207</th>\n",
       "      <td>Symposio</td>\n",
       "      <td>Feudo Principi di Butera 2012 Symposio Red (Te...</td>\n",
       "    </tr>\n",
       "    <tr>\n",
       "      <th>68208</th>\n",
       "      <td>Barrel Fermented</td>\n",
       "      <td>Flora Springs 2013 Barrel Fermented Chardonnay...</td>\n",
       "    </tr>\n",
       "    <tr>\n",
       "      <th>68209</th>\n",
       "      <td>Blocks 7 &amp; 22</td>\n",
       "      <td>Hendry 2012 Blocks 7 &amp; 22 Zinfandel (Napa Valley)</td>\n",
       "    </tr>\n",
       "    <tr>\n",
       "      <th>68210</th>\n",
       "      <td>NaN</td>\n",
       "      <td>Houdini 2011 Zinfandel (Chiles Valley)</td>\n",
       "    </tr>\n",
       "    <tr>\n",
       "      <th>68211</th>\n",
       "      <td>NaN</td>\n",
       "      <td>Dog Point 2012 Chardonnay (Marlborough)</td>\n",
       "    </tr>\n",
       "    <tr>\n",
       "      <th>68212</th>\n",
       "      <td>Gimblett Gravels Merlot-Cabernet Sauvignon-Malbec</td>\n",
       "      <td>Esk Valley 2011 Gimblett Gravels Merlot-Cabern...</td>\n",
       "    </tr>\n",
       "    <tr>\n",
       "      <th>68213</th>\n",
       "      <td>Irongate</td>\n",
       "      <td>Babich 2010 Irongate Red (Hawke's Bay)</td>\n",
       "    </tr>\n",
       "    <tr>\n",
       "      <th>68214</th>\n",
       "      <td>Vértice</td>\n",
       "      <td>Caves Transmontanas 2006 Vértice Pinot Noir (D...</td>\n",
       "    </tr>\n",
       "    <tr>\n",
       "      <th>68215</th>\n",
       "      <td>Oak Aged</td>\n",
       "      <td>Dalton 2012 Oak Aged Cabernet Sauvignon (Galilee)</td>\n",
       "    </tr>\n",
       "    <tr>\n",
       "      <th>68216</th>\n",
       "      <td>Brauneberger Juffer-Sonnenuhr Spätlese</td>\n",
       "      <td>Dr. H. Thanisch (Erben Müller-Burggraef) 2013 ...</td>\n",
       "    </tr>\n",
       "    <tr>\n",
       "      <th>68217</th>\n",
       "      <td>NaN</td>\n",
       "      <td>Citation 2004 Pinot Noir (Oregon)</td>\n",
       "    </tr>\n",
       "  </tbody>\n",
       "</table>\n",
       "<p>68218 rows × 2 columns</p>\n",
       "</div>"
      ],
      "text/plain": [
       "                                             designation  \\\n",
       "0                                   Reserve Late Harvest   \n",
       "1                     Vintner's Reserve Wild Child Block   \n",
       "2                                         Mountain Cuvée   \n",
       "3                                                    NaN   \n",
       "4                                                    NaN   \n",
       "5                                                  Devon   \n",
       "6                                          Vin de Maison   \n",
       "7                                                    NaN   \n",
       "8                                    Signature Selection   \n",
       "9                                    King Ridge Vineyard   \n",
       "10                                    Mascaria Barricato   \n",
       "11                                 Puma Springs Vineyard   \n",
       "12                                                   NaN   \n",
       "13                                                Hyland   \n",
       "14                                               Missoni   \n",
       "15                                                   NaN   \n",
       "16                                                   NaN   \n",
       "17                                                   NaN   \n",
       "18                                         #SocialSecret   \n",
       "19                                                   NaN   \n",
       "20                                                   NaN   \n",
       "21                                        Estate Bottled   \n",
       "22                                                   NaN   \n",
       "23                                               Reserve   \n",
       "24                                                Estate   \n",
       "25                                           Golden Horn   \n",
       "26                                                   NaN   \n",
       "27                                                   NaN   \n",
       "28                                              Inspired   \n",
       "29                                                   NaN   \n",
       "...                                                  ...   \n",
       "68188                                      Mith Red Wine   \n",
       "68189                        Wehlener Sonnenuhr Spätlese   \n",
       "68190                                            Reserve   \n",
       "68191                                Fiddlestix Vineyard   \n",
       "68192                                        Kranachberg   \n",
       "68193                        Erdener Treppchen Spätlese*   \n",
       "68194  Bernkasteler alte Badstube am Doctorberg Spätlese   \n",
       "68195                                             B Crux   \n",
       "68196                                Ash Hollow Vineyard   \n",
       "68197                                   Salmos Perpetual   \n",
       "68198                                                NaN   \n",
       "68199                                          Pasionado   \n",
       "68200                                                NaN   \n",
       "68201                                        Premier Cru   \n",
       "68202                                    Watson Vineyard   \n",
       "68203                                                NaN   \n",
       "68204                                                NaN   \n",
       "68205                                            Adènzia   \n",
       "68206                                                Dom   \n",
       "68207                                           Symposio   \n",
       "68208                                   Barrel Fermented   \n",
       "68209                                      Blocks 7 & 22   \n",
       "68210                                                NaN   \n",
       "68211                                                NaN   \n",
       "68212  Gimblett Gravels Merlot-Cabernet Sauvignon-Malbec   \n",
       "68213                                           Irongate   \n",
       "68214                                            Vértice   \n",
       "68215                                           Oak Aged   \n",
       "68216             Brauneberger Juffer-Sonnenuhr Spätlese   \n",
       "68217                                                NaN   \n",
       "\n",
       "                                                   title  \n",
       "0      St. Julian 2013 Reserve Late Harvest Riesling ...  \n",
       "1      Sweet Cheeks 2012 Vintner's Reserve Wild Child...  \n",
       "2      Kirkland Signature 2011 Mountain Cuvée Caberne...  \n",
       "3      Louis M. Martini 2012 Cabernet Sauvignon (Alex...  \n",
       "4               Mirassou 2012 Chardonnay (Central Coast)  \n",
       "5            Richard Böcking 2013 Devon Riesling (Mosel)  \n",
       "6          Quiévremont 2012 Vin de Maison Red (Virginia)  \n",
       "7                       Acrobat 2013 Pinot Noir (Oregon)  \n",
       "8      Bianchi 2011 Signature Selection Merlot (Paso ...  \n",
       "9      Castello di Amorosa 2011 King Ridge Vineyard P...  \n",
       "10     Terre di Giurfo 2011 Mascaria Barricato  (Cera...  \n",
       "11     Envolve 2010 Puma Springs Vineyard Red (Dry Cr...  \n",
       "12          Envolve 2011 Sauvignon Blanc (Sonoma Valley)  \n",
       "13            Erath 2010 Hyland Pinot Noir (McMinnville)  \n",
       "14     Feudi del Pisciotto 2010 Missoni Cabernet Sauv...  \n",
       "15     Hawkins Cellars 2009 Pinot Noir (Willamette Va...  \n",
       "16        Robert Hall 2011 Sauvignon Blanc (Paso Robles)  \n",
       "17                   Sundance 2011 Merlot (Maule Valley)  \n",
       "18              Tarara 2010 #SocialSecret Red (Virginia)  \n",
       "19          The White Knight 2011 Riesling (Lake County)  \n",
       "20               Trump 2011 Sauvignon Blanc (Monticello)  \n",
       "21     RustRidge 2010 Estate Bottled Chardonnay (Napa...  \n",
       "22               Souverain 2010 Chardonnay (North Coast)  \n",
       "23     Tres Palacios 2011 Reserve Pinot Noir (Maipo V...  \n",
       "24     Okapi 2013 Estate Cabernet Sauvignon (Napa Val...  \n",
       "25     Sevtap 2015 Golden Horn Sauvignon Blanc (Santa...  \n",
       "26                         Simonnet-Febvre 2015  Chablis  \n",
       "27     Vignerons des Terres Secrètes 2015  Mâcon-Mill...  \n",
       "28     Basel Cellars 2013 Inspired Red (Columbia Vall...  \n",
       "29                         Cocobon 2014 Red (California)  \n",
       "...                                                  ...  \n",
       "68188  Balboa 2005 Mith Red Wine Red (Columbia Valley...  \n",
       "68189  Dr. Loosen 2006 Wehlener Sonnenuhr Spätlese Ri...  \n",
       "68190  Nicholas Cole Cellars 2004 Reserve Red (Walla ...  \n",
       "68191  Pali 2006 Fiddlestix Vineyard Pinot Noir (Sta....  \n",
       "68192  Sattlerhof 2006 Kranachberg Sauvignon Blanc (S...  \n",
       "68193  Stephan Ehlen 2006 Erdener Treppchen Spätlese*...  \n",
       "68194  Dr. Pauly Bergweiler 2006 Bernkasteler alte Ba...  \n",
       "68195           O. Fournier 2005 B Crux Red (Uco Valley)  \n",
       "68196  Reininger 2005 Ash Hollow Vineyard Syrah (Wall...  \n",
       "68197         Torres 2005 Salmos Perpetual Red (Priorat)  \n",
       "68198          Henri de Villamont 2005  Grands-Echezeaux  \n",
       "68199           Andeluna 2004 Pasionado Red (Uco Valley)  \n",
       "68200  Va Piano 2006 Syrah (Columbia Valley-Walla Wal...  \n",
       "68201   Bouchard Père & Fils 2005 Premier Cru  (Pommard)  \n",
       "68202  Standish 2006 Watson Vineyard Chardonnay (Mend...  \n",
       "68203         Apriori 2013 Chardonnay (Mendocino County)  \n",
       "68204   Arrowood 2010 Cabernet Sauvignon (Sonoma County)  \n",
       "68205  Baglio del Cristo di Campobello 2012 Adènzia R...  \n",
       "68206  Bischöfliche Weingüter Trier 2013 Dom Riesling...  \n",
       "68207  Feudo Principi di Butera 2012 Symposio Red (Te...  \n",
       "68208  Flora Springs 2013 Barrel Fermented Chardonnay...  \n",
       "68209  Hendry 2012 Blocks 7 & 22 Zinfandel (Napa Valley)  \n",
       "68210             Houdini 2011 Zinfandel (Chiles Valley)  \n",
       "68211            Dog Point 2012 Chardonnay (Marlborough)  \n",
       "68212  Esk Valley 2011 Gimblett Gravels Merlot-Cabern...  \n",
       "68213             Babich 2010 Irongate Red (Hawke's Bay)  \n",
       "68214  Caves Transmontanas 2006 Vértice Pinot Noir (D...  \n",
       "68215  Dalton 2012 Oak Aged Cabernet Sauvignon (Galilee)  \n",
       "68216  Dr. H. Thanisch (Erben Müller-Burggraef) 2013 ...  \n",
       "68217                  Citation 2004 Pinot Noir (Oregon)  \n",
       "\n",
       "[68218 rows x 2 columns]"
      ]
     },
     "execution_count": 196,
     "metadata": {},
     "output_type": "execute_result"
    }
   ],
   "source": [
    "df[['designation', 'title']]"
   ]
  },
  {
   "cell_type": "code",
   "execution_count": 197,
   "metadata": {},
   "outputs": [
    {
     "data": {
      "text/plain": [
       "11268"
      ]
     },
     "execution_count": 197,
     "metadata": {},
     "output_type": "execute_result"
    }
   ],
   "source": [
    "df.winery.nunique()"
   ]
  },
  {
   "cell_type": "markdown",
   "metadata": {},
   "source": [
    "# Create a random sample of the dataframe that has an equal representation of all of the wine varieties"
   ]
  },
  {
   "cell_type": "code",
   "execution_count": 198,
   "metadata": {},
   "outputs": [
    {
     "data": {
      "text/plain": [
       "Pinot Noir                  12484\n",
       "Chardonnay                  10895\n",
       "Cabernet Sauvignon           8793\n",
       "Red Blend                    8307\n",
       "Bordeaux-style Red Blend     5044\n",
       "Riesling                     4894\n",
       "Sauvignon Blanc              4782\n",
       "Syrah                        4025\n",
       "Rosé                         3260\n",
       "Merlot                       3026\n",
       "Zinfandel                    2708\n",
       "Name: variety, dtype: int64"
      ]
     },
     "execution_count": 198,
     "metadata": {},
     "output_type": "execute_result"
    }
   ],
   "source": [
    "df.variety.value_counts()"
   ]
  },
  {
   "cell_type": "code",
   "execution_count": 206,
   "metadata": {},
   "outputs": [
    {
     "data": {
      "text/plain": [
       "array(['Riesling', 'Pinot Noir', 'Cabernet Sauvignon', 'Chardonnay',\n",
       "       'Red Blend', 'Merlot', 'Sauvignon Blanc',\n",
       "       'Bordeaux-style Red Blend', 'Rosé', 'Zinfandel', 'Syrah'],\n",
       "      dtype=object)"
      ]
     },
     "execution_count": 206,
     "metadata": {},
     "output_type": "execute_result"
    }
   ],
   "source": [
    "df.variety.unique()"
   ]
  },
  {
   "cell_type": "code",
   "execution_count": 204,
   "metadata": {},
   "outputs": [],
   "source": [
    "min_count = df.variety.value_counts().min()"
   ]
  },
  {
   "cell_type": "code",
   "execution_count": 210,
   "metadata": {},
   "outputs": [
    {
     "data": {
      "text/html": [
       "<div>\n",
       "<style scoped>\n",
       "    .dataframe tbody tr th:only-of-type {\n",
       "        vertical-align: middle;\n",
       "    }\n",
       "\n",
       "    .dataframe tbody tr th {\n",
       "        vertical-align: top;\n",
       "    }\n",
       "\n",
       "    .dataframe thead th {\n",
       "        text-align: right;\n",
       "    }\n",
       "</style>\n",
       "<table border=\"1\" class=\"dataframe\">\n",
       "  <thead>\n",
       "    <tr style=\"text-align: right;\">\n",
       "      <th></th>\n",
       "      <th>country</th>\n",
       "      <th>description</th>\n",
       "      <th>designation</th>\n",
       "      <th>points</th>\n",
       "      <th>price</th>\n",
       "      <th>province</th>\n",
       "      <th>region_1</th>\n",
       "      <th>region_2</th>\n",
       "      <th>taster_name</th>\n",
       "      <th>taster_twitter_handle</th>\n",
       "      <th>title</th>\n",
       "      <th>variety</th>\n",
       "      <th>winery</th>\n",
       "    </tr>\n",
       "  </thead>\n",
       "  <tbody>\n",
       "  </tbody>\n",
       "</table>\n",
       "</div>"
      ],
      "text/plain": [
       "Empty DataFrame\n",
       "Columns: [country, description, designation, points, price, province, region_1, region_2, taster_name, taster_twitter_handle, title, variety, winery]\n",
       "Index: []"
      ]
     },
     "execution_count": 210,
     "metadata": {},
     "output_type": "execute_result"
    }
   ],
   "source": [
    "a = df[0:0]\n",
    "a"
   ]
  },
  {
   "cell_type": "code",
   "execution_count": 215,
   "metadata": {},
   "outputs": [],
   "source": [
    "a = df[0:0]\n",
    "for v in df.variety.unique():\n",
    "    b = df[df.variety == v].sample(n=min_count, random_state = 123)\n",
    "    a = pd.concat([a,b])"
   ]
  },
  {
   "cell_type": "code",
   "execution_count": 216,
   "metadata": {},
   "outputs": [
    {
     "data": {
      "text/plain": [
       "Red Blend                   2708\n",
       "Bordeaux-style Red Blend    2708\n",
       "Zinfandel                   2708\n",
       "Merlot                      2708\n",
       "Rosé                        2708\n",
       "Sauvignon Blanc             2708\n",
       "Syrah                       2708\n",
       "Riesling                    2708\n",
       "Cabernet Sauvignon          2708\n",
       "Chardonnay                  2708\n",
       "Pinot Noir                  2708\n",
       "Name: variety, dtype: int64"
      ]
     },
     "execution_count": 216,
     "metadata": {},
     "output_type": "execute_result"
    }
   ],
   "source": [
    "a.variety.value_counts()"
   ]
  },
  {
   "cell_type": "code",
   "execution_count": 217,
   "metadata": {},
   "outputs": [
    {
     "data": {
      "text/plain": [
       "count    29788.000000\n",
       "mean        30.994595\n",
       "std         19.076352\n",
       "min          4.000000\n",
       "25%         17.000000\n",
       "50%         25.000000\n",
       "75%         40.000000\n",
       "max        117.000000\n",
       "Name: price, dtype: float64"
      ]
     },
     "execution_count": 217,
     "metadata": {},
     "output_type": "execute_result"
    }
   ],
   "source": [
    "a.price.describe()"
   ]
  },
  {
   "cell_type": "code",
   "execution_count": 223,
   "metadata": {},
   "outputs": [
    {
     "data": {
      "text/plain": [
       "80      112\n",
       "81      185\n",
       "82      545\n",
       "83      778\n",
       "84     1782\n",
       "85     2331\n",
       "86     2906\n",
       "87     3778\n",
       "88     3867\n",
       "89     2662\n",
       "90     3621\n",
       "91     2675\n",
       "92     2086\n",
       "93     1394\n",
       "94      710\n",
       "95      256\n",
       "96       77\n",
       "97       14\n",
       "98        6\n",
       "99        2\n",
       "100       1\n",
       "Name: points, dtype: int64"
      ]
     },
     "execution_count": 223,
     "metadata": {},
     "output_type": "execute_result"
    }
   ],
   "source": [
    "a.points.value_counts().sort_index()"
   ]
  },
  {
   "cell_type": "code",
   "execution_count": 224,
   "metadata": {},
   "outputs": [],
   "source": [
    "import unicodedata\n",
    "import re\n",
    "import json\n",
    "\n",
    "import nltk\n",
    "from nltk.tokenize.toktok import ToktokTokenizer\n",
    "from nltk.corpus import stopwords\n"
   ]
  },
  {
   "cell_type": "code",
   "execution_count": 231,
   "metadata": {},
   "outputs": [
    {
     "data": {
      "text/plain": [
       "5933     fresh and floral on the nose and palate, this ...\n",
       "67835    notions of ripe, red apple are deliciously per...\n",
       "28675    musky, floral perfume introduces this bright, ...\n",
       "35466    both sweet and savory, this delicately scented...\n",
       "24528    honeysuckle, mineral, honey and botrytis aroma...\n",
       "Name: description, dtype: object"
      ]
     },
     "execution_count": 231,
     "metadata": {},
     "output_type": "execute_result"
    }
   ],
   "source": [
    "a['description'] = a.description.str.lower()\n",
    "a.description.head()"
   ]
  },
  {
   "cell_type": "code",
   "execution_count": 233,
   "metadata": {},
   "outputs": [
    {
     "data": {
      "text/plain": [
       "5933     riesling\n",
       "67835    riesling\n",
       "28675    riesling\n",
       "35466    riesling\n",
       "24528    riesling\n",
       "Name: variety, dtype: object"
      ]
     },
     "execution_count": 233,
     "metadata": {},
     "output_type": "execute_result"
    }
   ],
   "source": [
    "a['variety'] = a.variety.str.lower()\n",
    "a.variety.head()"
   ]
  },
  {
   "cell_type": "code",
   "execution_count": 239,
   "metadata": {},
   "outputs": [],
   "source": [
    "def normalize(string):\n",
    "    return unicodedata.normalize('NFKD', string)\\\n",
    "    .encode('ascii', 'ignore')\\\n",
    "    .decode('utf-8', 'ignore')"
   ]
  },
  {
   "cell_type": "code",
   "execution_count": 241,
   "metadata": {},
   "outputs": [
    {
     "data": {
      "text/plain": [
       "5933     fresh and floral on the nose and palate, this ...\n",
       "67835    notions of ripe, red apple are deliciously per...\n",
       "28675    musky, floral perfume introduces this bright, ...\n",
       "35466    both sweet and savory, this delicately scented...\n",
       "24528    honeysuckle, mineral, honey and botrytis aroma...\n",
       "17203    while the nose is subdued, the palate of this ...\n",
       "43574    rich, ripe yellow cherries and honeysuckle waf...\n",
       "57747    fleshy, intensely ripened pineapple, melon and...\n",
       "22036    a subtly earthy, dusty minerality mingles into...\n",
       "14597    layers of pollen, dusty mineral and spice lend...\n",
       "8112     whiffs of pink grapefruit, guava and blossom e...\n",
       "37464    the historic dr. konstantin frank winery has l...\n",
       "30848    despite its 2.4% residual sugar, this is a tar...\n",
       "25512    though it was picked at 29 brix and fermentati...\n",
       "113      a thoroughly honest effort, opening with lovel...\n",
       "55166    this has compelling intensity, with the extra ...\n",
       "30210    intense lemon and lime-skin aromas add sheen t...\n",
       "67854    ripe and full in the mouth, this is a yellow f...\n",
       "12455    this is a taut, terroir-driven riesling. it is...\n",
       "2165     bright aromas of peach, lime leaf, jasmine and...\n",
       "60066    the bouquet here is crisp, dry and minerally, ...\n",
       "35531    subtle but luscious notes of mirabelle plum, r...\n",
       "65387    notes of pineapple and tangerine skin perfume ...\n",
       "60386    fresh and bright, with notes of orange peel an...\n",
       "52876    the wannabe grand cru of belzbrunnen has produ...\n",
       "1298     the most aromatically complex of the fe 2012 r...\n",
       "25511    this tastes quite dry, though the residual sug...\n",
       "10444    spice and saffron notes introduce this lavishl...\n",
       "1794     yellow fruits lead off this sophisticated wine...\n",
       "24400    this stunner of a dry riesling invigorates fro...\n",
       "                               ...                        \n",
       "67136    this well-aged wine has a slightly earthy, new...\n",
       "64293    some tasters will really love this walla walla...\n",
       "18525    syrah and dry creek valley have long been good...\n",
       "7413     this syrah hails from northern chile, and it d...\n",
       "58464    this well-made wine has appealing aromas of mi...\n",
       "51326    from one of the few producers to have estate-g...\n",
       "56722    coming from one of the state's premier syrah v...\n",
       "36078    with strong, upfront black currant, leather, b...\n",
       "20456    this wine exhibits pristine syrah character fr...\n",
       "28302    this perli is a gem, a gorgeous reminder that ...\n",
       "63436    aromas of asphalt, herb, cracked pepper and da...\n",
       "35541    a seductive and easy-pleasing wine, this ripe ...\n",
       "29951    coming from three different blocks of the wine...\n",
       "45220    whiffs of wood smoke, black pepper and clove b...\n",
       "31327    made from vines planted several decades ago, t...\n",
       "11441    rather grapey, front-loaded flavors move quick...\n",
       "42228    the aromas don't seem entirely settled, with n...\n",
       "40296    aromas of iron, fresh-roasted coffee beans, hi...\n",
       "59160    compact aromas of berry fruits are more basic ...\n",
       "8776     what an interesting wine. it drinks like it re...\n",
       "12362    juicy, nearly sweet-smelling aromas of blackbe...\n",
       "24280    brooding aromas of crushed rock, mineral, blac...\n",
       "63863    eric carucci taps a very cool-climate, biodyna...\n",
       "31929    jammy, dark aromas form a good opening, and th...\n",
       "59641    made from 100% syrah, this wine is dark red an...\n",
       "8461     this falls a little to the thin side of syrah,...\n",
       "63196    brooding black raspberry, iron and crushed dri...\n",
       "35058    a juicy and smoky nose of black cherries, vani...\n",
       "67762    rich and concentrated, this syrah is aged in f...\n",
       "37754    the dark and penetrating aromas of violets, sh...\n",
       "Name: description, Length: 29788, dtype: object"
      ]
     },
     "execution_count": 241,
     "metadata": {},
     "output_type": "execute_result"
    }
   ],
   "source": [
    "a.description.apply(normalize)"
   ]
  },
  {
   "cell_type": "code",
   "execution_count": null,
   "metadata": {},
   "outputs": [],
   "source": []
  }
 ],
 "metadata": {
  "kernelspec": {
   "display_name": "Python 3",
   "language": "python",
   "name": "python3"
  },
  "language_info": {
   "codemirror_mode": {
    "name": "ipython",
    "version": 3
   },
   "file_extension": ".py",
   "mimetype": "text/x-python",
   "name": "python",
   "nbconvert_exporter": "python",
   "pygments_lexer": "ipython3",
   "version": "3.7.3"
  }
 },
 "nbformat": 4,
 "nbformat_minor": 2
}
