{
 "cells": [
  {
   "cell_type": "code",
   "execution_count": 53,
   "metadata": {},
   "outputs": [],
   "source": [
    "import pandas as pd\n",
    "import matplotlib.pyplot as plt\n",
    "from scipy.stats import iqr\n",
    "import numpy as np\n",
    "import seaborn as sns"
   ]
  },
  {
   "cell_type": "code",
   "execution_count": 8,
   "metadata": {},
   "outputs": [
    {
     "data": {
      "text/plain": [
       "(129971, 13)"
      ]
     },
     "execution_count": 8,
     "metadata": {},
     "output_type": "execute_result"
    }
   ],
   "source": [
    "df = pd.read_csv('winemag-data-130k-v2.csv', index_col = 0)\n",
    "df.shape"
   ]
  },
  {
   "cell_type": "code",
   "execution_count": 9,
   "metadata": {},
   "outputs": [
    {
     "name": "stdout",
     "output_type": "stream",
     "text": [
      "<class 'pandas.core.frame.DataFrame'>\n",
      "Int64Index: 129971 entries, 0 to 129970\n",
      "Data columns (total 13 columns):\n",
      "country                  129908 non-null object\n",
      "description              129971 non-null object\n",
      "designation              92506 non-null object\n",
      "points                   129971 non-null int64\n",
      "price                    120975 non-null float64\n",
      "province                 129908 non-null object\n",
      "region_1                 108724 non-null object\n",
      "region_2                 50511 non-null object\n",
      "taster_name              103727 non-null object\n",
      "taster_twitter_handle    98758 non-null object\n",
      "title                    129971 non-null object\n",
      "variety                  129970 non-null object\n",
      "winery                   129971 non-null object\n",
      "dtypes: float64(1), int64(1), object(11)\n",
      "memory usage: 13.9+ MB\n"
     ]
    }
   ],
   "source": [
    "df.info()"
   ]
  },
  {
   "cell_type": "code",
   "execution_count": 10,
   "metadata": {},
   "outputs": [
    {
     "data": {
      "text/html": [
       "<div>\n",
       "<style scoped>\n",
       "    .dataframe tbody tr th:only-of-type {\n",
       "        vertical-align: middle;\n",
       "    }\n",
       "\n",
       "    .dataframe tbody tr th {\n",
       "        vertical-align: top;\n",
       "    }\n",
       "\n",
       "    .dataframe thead th {\n",
       "        text-align: right;\n",
       "    }\n",
       "</style>\n",
       "<table border=\"1\" class=\"dataframe\">\n",
       "  <thead>\n",
       "    <tr style=\"text-align: right;\">\n",
       "      <th></th>\n",
       "      <th>country</th>\n",
       "      <th>description</th>\n",
       "      <th>designation</th>\n",
       "      <th>points</th>\n",
       "      <th>price</th>\n",
       "      <th>province</th>\n",
       "      <th>region_1</th>\n",
       "      <th>region_2</th>\n",
       "      <th>taster_name</th>\n",
       "      <th>taster_twitter_handle</th>\n",
       "      <th>title</th>\n",
       "      <th>variety</th>\n",
       "      <th>winery</th>\n",
       "    </tr>\n",
       "  </thead>\n",
       "  <tbody>\n",
       "    <tr>\n",
       "      <th>0</th>\n",
       "      <td>Italy</td>\n",
       "      <td>Aromas include tropical fruit, broom, brimston...</td>\n",
       "      <td>Vulkà Bianco</td>\n",
       "      <td>87</td>\n",
       "      <td>NaN</td>\n",
       "      <td>Sicily &amp; Sardinia</td>\n",
       "      <td>Etna</td>\n",
       "      <td>NaN</td>\n",
       "      <td>Kerin O’Keefe</td>\n",
       "      <td>@kerinokeefe</td>\n",
       "      <td>Nicosia 2013 Vulkà Bianco  (Etna)</td>\n",
       "      <td>White Blend</td>\n",
       "      <td>Nicosia</td>\n",
       "    </tr>\n",
       "    <tr>\n",
       "      <th>1</th>\n",
       "      <td>Portugal</td>\n",
       "      <td>This is ripe and fruity, a wine that is smooth...</td>\n",
       "      <td>Avidagos</td>\n",
       "      <td>87</td>\n",
       "      <td>15.0</td>\n",
       "      <td>Douro</td>\n",
       "      <td>NaN</td>\n",
       "      <td>NaN</td>\n",
       "      <td>Roger Voss</td>\n",
       "      <td>@vossroger</td>\n",
       "      <td>Quinta dos Avidagos 2011 Avidagos Red (Douro)</td>\n",
       "      <td>Portuguese Red</td>\n",
       "      <td>Quinta dos Avidagos</td>\n",
       "    </tr>\n",
       "    <tr>\n",
       "      <th>2</th>\n",
       "      <td>US</td>\n",
       "      <td>Tart and snappy, the flavors of lime flesh and...</td>\n",
       "      <td>NaN</td>\n",
       "      <td>87</td>\n",
       "      <td>14.0</td>\n",
       "      <td>Oregon</td>\n",
       "      <td>Willamette Valley</td>\n",
       "      <td>Willamette Valley</td>\n",
       "      <td>Paul Gregutt</td>\n",
       "      <td>@paulgwine</td>\n",
       "      <td>Rainstorm 2013 Pinot Gris (Willamette Valley)</td>\n",
       "      <td>Pinot Gris</td>\n",
       "      <td>Rainstorm</td>\n",
       "    </tr>\n",
       "    <tr>\n",
       "      <th>3</th>\n",
       "      <td>US</td>\n",
       "      <td>Pineapple rind, lemon pith and orange blossom ...</td>\n",
       "      <td>Reserve Late Harvest</td>\n",
       "      <td>87</td>\n",
       "      <td>13.0</td>\n",
       "      <td>Michigan</td>\n",
       "      <td>Lake Michigan Shore</td>\n",
       "      <td>NaN</td>\n",
       "      <td>Alexander Peartree</td>\n",
       "      <td>NaN</td>\n",
       "      <td>St. Julian 2013 Reserve Late Harvest Riesling ...</td>\n",
       "      <td>Riesling</td>\n",
       "      <td>St. Julian</td>\n",
       "    </tr>\n",
       "    <tr>\n",
       "      <th>4</th>\n",
       "      <td>US</td>\n",
       "      <td>Much like the regular bottling from 2012, this...</td>\n",
       "      <td>Vintner's Reserve Wild Child Block</td>\n",
       "      <td>87</td>\n",
       "      <td>65.0</td>\n",
       "      <td>Oregon</td>\n",
       "      <td>Willamette Valley</td>\n",
       "      <td>Willamette Valley</td>\n",
       "      <td>Paul Gregutt</td>\n",
       "      <td>@paulgwine</td>\n",
       "      <td>Sweet Cheeks 2012 Vintner's Reserve Wild Child...</td>\n",
       "      <td>Pinot Noir</td>\n",
       "      <td>Sweet Cheeks</td>\n",
       "    </tr>\n",
       "  </tbody>\n",
       "</table>\n",
       "</div>"
      ],
      "text/plain": [
       "    country                                        description  \\\n",
       "0     Italy  Aromas include tropical fruit, broom, brimston...   \n",
       "1  Portugal  This is ripe and fruity, a wine that is smooth...   \n",
       "2        US  Tart and snappy, the flavors of lime flesh and...   \n",
       "3        US  Pineapple rind, lemon pith and orange blossom ...   \n",
       "4        US  Much like the regular bottling from 2012, this...   \n",
       "\n",
       "                          designation  points  price           province  \\\n",
       "0                        Vulkà Bianco      87    NaN  Sicily & Sardinia   \n",
       "1                            Avidagos      87   15.0              Douro   \n",
       "2                                 NaN      87   14.0             Oregon   \n",
       "3                Reserve Late Harvest      87   13.0           Michigan   \n",
       "4  Vintner's Reserve Wild Child Block      87   65.0             Oregon   \n",
       "\n",
       "              region_1           region_2         taster_name  \\\n",
       "0                 Etna                NaN       Kerin O’Keefe   \n",
       "1                  NaN                NaN          Roger Voss   \n",
       "2    Willamette Valley  Willamette Valley        Paul Gregutt   \n",
       "3  Lake Michigan Shore                NaN  Alexander Peartree   \n",
       "4    Willamette Valley  Willamette Valley        Paul Gregutt   \n",
       "\n",
       "  taster_twitter_handle                                              title  \\\n",
       "0          @kerinokeefe                  Nicosia 2013 Vulkà Bianco  (Etna)   \n",
       "1            @vossroger      Quinta dos Avidagos 2011 Avidagos Red (Douro)   \n",
       "2           @paulgwine       Rainstorm 2013 Pinot Gris (Willamette Valley)   \n",
       "3                   NaN  St. Julian 2013 Reserve Late Harvest Riesling ...   \n",
       "4           @paulgwine   Sweet Cheeks 2012 Vintner's Reserve Wild Child...   \n",
       "\n",
       "          variety               winery  \n",
       "0     White Blend              Nicosia  \n",
       "1  Portuguese Red  Quinta dos Avidagos  \n",
       "2      Pinot Gris            Rainstorm  \n",
       "3        Riesling           St. Julian  \n",
       "4      Pinot Noir         Sweet Cheeks  "
      ]
     },
     "execution_count": 10,
     "metadata": {},
     "output_type": "execute_result"
    }
   ],
   "source": [
    "df.head()"
   ]
  },
  {
   "cell_type": "code",
   "execution_count": 17,
   "metadata": {},
   "outputs": [
    {
     "data": {
      "image/png": "[encoded data removed]",
      "text/plain": [
       "<Figure size 432x288 with 1 Axes>"
      ]
     },
     "metadata": {
      "needs_background": "light"
     },
     "output_type": "display_data"
    }
   ],
   "source": [
    "plt.hist(df.price, bins = 1000)\n",
    "plt.show()"
   ]
  },
  {
   "cell_type": "code",
   "execution_count": 19,
   "metadata": {},
   "outputs": [
    {
     "data": {
      "text/plain": [
       "nan"
      ]
     },
     "execution_count": 19,
     "metadata": {},
     "output_type": "execute_result"
    }
   ],
   "source": [
    "iqr(df.price)"
   ]
  },
  {
   "cell_type": "code",
   "execution_count": 23,
   "metadata": {},
   "outputs": [],
   "source": [
    "iqr_price = iqr(df[['price']].dropna().price)"
   ]
  },
  {
   "cell_type": "code",
   "execution_count": 28,
   "metadata": {},
   "outputs": [
    {
     "data": {
      "text/plain": [
       "42.0"
      ]
     },
     "execution_count": 28,
     "metadata": {},
     "output_type": "execute_result"
    }
   ],
   "source": [
    "third_quantile = np.quantile(df[['price']].dropna().price, .75)\n",
    "third_quantile"
   ]
  },
  {
   "cell_type": "code",
   "execution_count": 30,
   "metadata": {},
   "outputs": [
    {
     "data": {
      "text/plain": [
       "117.0"
      ]
     },
     "execution_count": 30,
     "metadata": {},
     "output_type": "execute_result"
    }
   ],
   "source": [
    "upper_fence = third_quantile + 3*iqr_price\n",
    "upper_fence"
   ]
  },
  {
   "cell_type": "code",
   "execution_count": 31,
   "metadata": {},
   "outputs": [],
   "source": [
    "df = df[df.price <= upper_fence]"
   ]
  },
  {
   "cell_type": "code",
   "execution_count": 32,
   "metadata": {},
   "outputs": [
    {
     "data": {
      "text/plain": [
       "(118299, 13)"
      ]
     },
     "execution_count": 32,
     "metadata": {},
     "output_type": "execute_result"
    }
   ],
   "source": [
    "df.shape"
   ]
  },
  {
   "cell_type": "code",
   "execution_count": 33,
   "metadata": {},
   "outputs": [
    {
     "data": {
      "text/plain": [
       "<matplotlib.axes._subplots.AxesSubplot at 0x11eb0b438>"
      ]
     },
     "execution_count": 33,
     "metadata": {},
     "output_type": "execute_result"
    },
    {
     "data": {
      "image/png": "[encoded data removed]",
      "text/plain": [
       "<Figure size 432x288 with 1 Axes>"
      ]
     },
     "metadata": {
      "needs_background": "light"
     },
     "output_type": "display_data"
    }
   ],
   "source": [
    "df.price.hist()"
   ]
  },
  {
   "cell_type": "code",
   "execution_count": 36,
   "metadata": {},
   "outputs": [
    {
     "data": {
      "text/plain": [
       "Roger Voss            19368\n",
       "Michael Schachner     14699\n",
       "Kerin O’Keefe          9545\n",
       "Paul Gregutt           9457\n",
       "Virginie Boone         9133\n",
       "Matt Kettmann          6214\n",
       "Sean P. Sullivan       4895\n",
       "Joe Czerwinski         4860\n",
       "Anna Lee C. Iijima     4321\n",
       "Jim Gordon             4152\n",
       "Anne Krebiehl MW       3385\n",
       "Lauren Buzzeo          1707\n",
       "Susan Kostrzewa        1069\n",
       "Mike DeSimone           502\n",
       "Jeff Jenssen            484\n",
       "Alexander Peartree      412\n",
       "Carrie Dykes            138\n",
       "Fiona Adams              27\n",
       "Christina Pickard         6\n",
       "Name: taster_name, dtype: int64"
      ]
     },
     "execution_count": 36,
     "metadata": {},
     "output_type": "execute_result"
    }
   ],
   "source": [
    "df.taster_name.value_counts()"
   ]
  },
  {
   "cell_type": "code",
   "execution_count": 37,
   "metadata": {},
   "outputs": [
    {
     "name": "stdout",
     "output_type": "stream",
     "text": [
      "<class 'pandas.core.frame.DataFrame'>\n",
      "Int64Index: 118299 entries, 1 to 129970\n",
      "Data columns (total 13 columns):\n",
      "country                  118240 non-null object\n",
      "description              118299 non-null object\n",
      "designation              84060 non-null object\n",
      "points                   118299 non-null int64\n",
      "price                    118299 non-null float64\n",
      "province                 118240 non-null object\n",
      "region_1                 98933 non-null object\n",
      "region_2                 49436 non-null object\n",
      "taster_name              94374 non-null object\n",
      "taster_twitter_handle    89503 non-null object\n",
      "title                    118299 non-null object\n",
      "variety                  118298 non-null object\n",
      "winery                   118299 non-null object\n",
      "dtypes: float64(1), int64(1), object(11)\n",
      "memory usage: 12.6+ MB\n"
     ]
    }
   ],
   "source": [
    "df.info()"
   ]
  },
  {
   "cell_type": "code",
   "execution_count": 45,
   "metadata": {},
   "outputs": [],
   "source": [
    "df.drop(df[df.variety.isna()].index, inplace = True)"
   ]
  },
  {
   "cell_type": "code",
   "execution_count": 46,
   "metadata": {},
   "outputs": [
    {
     "data": {
      "text/plain": [
       "693"
      ]
     },
     "execution_count": 46,
     "metadata": {},
     "output_type": "execute_result"
    }
   ],
   "source": [
    "df.variety.nunique()"
   ]
  },
  {
   "cell_type": "code",
   "execution_count": 47,
   "metadata": {},
   "outputs": [
    {
     "data": {
      "text/plain": [
       "42"
      ]
     },
     "execution_count": 47,
     "metadata": {},
     "output_type": "execute_result"
    }
   ],
   "source": [
    "df.country.nunique()"
   ]
  },
  {
   "cell_type": "code",
   "execution_count": 83,
   "metadata": {},
   "outputs": [
    {
     "data": {
      "text/plain": [
       "US                        53403\n",
       "France                    16972\n",
       "Italy                     16406\n",
       "Spain                      6420\n",
       "Portugal                   4818\n",
       "Chile                      4381\n",
       "Argentina                  3693\n",
       "Austria                    2788\n",
       "Australia                  2218\n",
       "Germany                    2041\n",
       "New Zealand                1371\n",
       "South Africa               1287\n",
       "Israel                      487\n",
       "Greece                      461\n",
       "Canada                      253\n",
       "Bulgaria                    141\n",
       "Hungary                     139\n",
       "Romania                     119\n",
       "Uruguay                     107\n",
       "Turkey                       89\n",
       "Georgia                      84\n",
       "Slovenia                     80\n",
       "Croatia                      71\n",
       "Mexico                       70\n",
       "England                      69\n",
       "Moldova                      59\n",
       "Brazil                       47\n",
       "Lebanon                      35\n",
       "Morocco                      28\n",
       "Peru                         16\n",
       "Ukraine                      14\n",
       "Serbia                       12\n",
       "Czech Republic               12\n",
       "Macedonia                    12\n",
       "Cyprus                       11\n",
       "India                         9\n",
       "Luxembourg                    6\n",
       "Switzerland                   4\n",
       "Armenia                       2\n",
       "Bosnia and Herzegovina        2\n",
       "Slovakia                      1\n",
       "China                         1\n",
       "Name: country, dtype: int64"
      ]
     },
     "execution_count": 83,
     "metadata": {},
     "output_type": "execute_result"
    }
   ],
   "source": [
    "df.country.value_counts()"
   ]
  },
  {
   "cell_type": "code",
   "execution_count": 48,
   "metadata": {},
   "outputs": [
    {
     "data": {
      "text/plain": [
       "34919"
      ]
     },
     "execution_count": 48,
     "metadata": {},
     "output_type": "execute_result"
    }
   ],
   "source": [
    "df.designation.nunique()"
   ]
  },
  {
   "cell_type": "code",
   "execution_count": 49,
   "metadata": {},
   "outputs": [
    {
     "data": {
      "text/plain": [
       "21"
      ]
     },
     "execution_count": 49,
     "metadata": {},
     "output_type": "execute_result"
    }
   ],
   "source": [
    "df.points.nunique()"
   ]
  },
  {
   "cell_type": "code",
   "execution_count": 51,
   "metadata": {},
   "outputs": [
    {
     "data": {
      "text/plain": [
       "80       395\n",
       "81       679\n",
       "82      1771\n",
       "83      2883\n",
       "84      6089\n",
       "85      8891\n",
       "86     11717\n",
       "87     15720\n",
       "88     15939\n",
       "89     11225\n",
       "90     14173\n",
       "91     10367\n",
       "92      8571\n",
       "93      5485\n",
       "94      2917\n",
       "95      1048\n",
       "96       295\n",
       "97       101\n",
       "98        24\n",
       "99         6\n",
       "100        2\n",
       "Name: points, dtype: int64"
      ]
     },
     "execution_count": 51,
     "metadata": {},
     "output_type": "execute_result"
    }
   ],
   "source": [
    "df.points.value_counts().sort_index()"
   ]
  },
  {
   "cell_type": "code",
   "execution_count": 52,
   "metadata": {},
   "outputs": [
    {
     "data": {
      "text/plain": [
       "<matplotlib.axes._subplots.AxesSubplot at 0x120e6c5f8>"
      ]
     },
     "execution_count": 52,
     "metadata": {},
     "output_type": "execute_result"
    },
    {
     "data": {
      "image/png": "[encoded data removed]",
      "text/plain": [
       "<Figure size 432x288 with 1 Axes>"
      ]
     },
     "metadata": {
      "needs_background": "light"
     },
     "output_type": "display_data"
    }
   ],
   "source": [
    "df.points.hist()"
   ]
  },
  {
   "cell_type": "code",
   "execution_count": 56,
   "metadata": {},
   "outputs": [
    {
     "data": {
      "text/plain": [
       "421"
      ]
     },
     "execution_count": 56,
     "metadata": {},
     "output_type": "execute_result"
    }
   ],
   "source": [
    "df.province.nunique()"
   ]
  },
  {
   "cell_type": "code",
   "execution_count": 57,
   "metadata": {},
   "outputs": [
    {
     "data": {
      "text/plain": [
       "1178"
      ]
     },
     "execution_count": 57,
     "metadata": {},
     "output_type": "execute_result"
    }
   ],
   "source": [
    "df.region_1.nunique()"
   ]
  },
  {
   "cell_type": "code",
   "execution_count": 58,
   "metadata": {},
   "outputs": [
    {
     "data": {
      "text/plain": [
       "17"
      ]
     },
     "execution_count": 58,
     "metadata": {},
     "output_type": "execute_result"
    }
   ],
   "source": [
    "df.region_2.nunique()"
   ]
  },
  {
   "cell_type": "code",
   "execution_count": 82,
   "metadata": {},
   "outputs": [
    {
     "data": {
      "text/plain": [
       "<BarContainer object of 6 artists>"
      ]
     },
     "execution_count": 82,
     "metadata": {},
     "output_type": "execute_result"
    },
    {
     "data": {
      "image/png": "[encoded data removed]",
      "text/plain": [
       "<Figure size 864x432 with 1 Axes>"
      ]
     },
     "metadata": {
      "needs_background": "light"
     },
     "output_type": "display_data"
    }
   ],
   "source": [
    "plt.figure(figsize = (12,6))\n",
    "plt.bar(x = df.region_2.value_counts()[0:6].index, height = df.region_2.value_counts()[0:6].values)"
   ]
  },
  {
   "cell_type": "code",
   "execution_count": 76,
   "metadata": {},
   "outputs": [
    {
     "data": {
      "text/plain": [
       "array([10941,  8957,  8018,  6136,  3397,  2660])"
      ]
     },
     "execution_count": 76,
     "metadata": {},
     "output_type": "execute_result"
    }
   ],
   "source": [
    "df.region_2.value_counts()[0:6].values"
   ]
  },
  {
   "cell_type": "code",
   "execution_count": 92,
   "metadata": {},
   "outputs": [
    {
     "data": {
      "text/plain": [
       "Pinot Noir                  12484\n",
       "Chardonnay                  10895\n",
       "Cabernet Sauvignon           8793\n",
       "Red Blend                    8307\n",
       "Bordeaux-style Red Blend     5044\n",
       "Riesling                     4894\n",
       "Sauvignon Blanc              4782\n",
       "Syrah                        4025\n",
       "Rosé                         3260\n",
       "Merlot                       3026\n",
       "Zinfandel                    2708\n",
       "Name: variety, dtype: int64"
      ]
     },
     "execution_count": 92,
     "metadata": {},
     "output_type": "execute_result"
    }
   ],
   "source": [
    "df.variety.value_counts()[0:11]"
   ]
  },
  {
   "cell_type": "code",
   "execution_count": 90,
   "metadata": {},
   "outputs": [],
   "source": [
    "iqr_variety = iqr(df.variety.value_counts().values)"
   ]
  },
  {
   "cell_type": "code",
   "execution_count": 91,
   "metadata": {},
   "outputs": [
    {
     "data": {
      "text/plain": [
       "2.0"
      ]
     },
     "execution_count": 91,
     "metadata": {},
     "output_type": "execute_result"
    }
   ],
   "source": [
    "quantile_one_variety = np.quantile(df.variety.value_counts().values, .25)\n",
    "quantile_one_variety"
   ]
  },
  {
   "cell_type": "code",
   "execution_count": 94,
   "metadata": {},
   "outputs": [],
   "source": [
    "df = df[df.variety.isin(df.variety.value_counts()[0:11].index)]"
   ]
  },
  {
   "cell_type": "code",
   "execution_count": 99,
   "metadata": {},
   "outputs": [],
   "source": [
    "df.reset_index(inplace = True)"
   ]
  },
  {
   "cell_type": "code",
   "execution_count": 100,
   "metadata": {},
   "outputs": [
    {
     "name": "stdout",
     "output_type": "stream",
     "text": [
      "<class 'pandas.core.frame.DataFrame'>\n",
      "RangeIndex: 68218 entries, 0 to 68217\n",
      "Data columns (total 14 columns):\n",
      "index                    68218 non-null int64\n",
      "country                  68195 non-null object\n",
      "description              68218 non-null object\n",
      "designation              47294 non-null object\n",
      "points                   68218 non-null int64\n",
      "price                    68218 non-null float64\n",
      "province                 68195 non-null object\n",
      "region_1                 58661 non-null object\n",
      "region_2                 38251 non-null object\n",
      "taster_name              53025 non-null object\n",
      "taster_twitter_handle    49622 non-null object\n",
      "title                    68218 non-null object\n",
      "variety                  68218 non-null object\n",
      "winery                   68218 non-null object\n",
      "dtypes: float64(1), int64(2), object(11)\n",
      "memory usage: 7.3+ MB\n"
     ]
    }
   ],
   "source": [
    "df.info()"
   ]
  },
  {
   "cell_type": "code",
   "execution_count": 101,
   "metadata": {},
   "outputs": [
    {
     "data": {
      "text/plain": [
       "Pinot Noir                  12484\n",
       "Chardonnay                  10895\n",
       "Cabernet Sauvignon           8793\n",
       "Red Blend                    8307\n",
       "Bordeaux-style Red Blend     5044\n",
       "Riesling                     4894\n",
       "Sauvignon Blanc              4782\n",
       "Syrah                        4025\n",
       "Rosé                         3260\n",
       "Merlot                       3026\n",
       "Zinfandel                    2708\n",
       "Name: variety, dtype: int64"
      ]
     },
     "execution_count": 101,
     "metadata": {},
     "output_type": "execute_result"
    }
   ],
   "source": [
    "df.variety.value_counts()"
   ]
  },
  {
   "cell_type": "code",
   "execution_count": 104,
   "metadata": {},
   "outputs": [
    {
     "data": {
      "text/html": [
       "<div>\n",
       "<style scoped>\n",
       "    .dataframe tbody tr th:only-of-type {\n",
       "        vertical-align: middle;\n",
       "    }\n",
       "\n",
       "    .dataframe tbody tr th {\n",
       "        vertical-align: top;\n",
       "    }\n",
       "\n",
       "    .dataframe thead th {\n",
       "        text-align: right;\n",
       "    }\n",
       "</style>\n",
       "<table border=\"1\" class=\"dataframe\">\n",
       "  <thead>\n",
       "    <tr style=\"text-align: right;\">\n",
       "      <th></th>\n",
       "      <th>designation</th>\n",
       "      <th>title</th>\n",
       "    </tr>\n",
       "  </thead>\n",
       "  <tbody>\n",
       "    <tr>\n",
       "      <th>0</th>\n",
       "      <td>Reserve Late Harvest</td>\n",
       "      <td>St. Julian 2013 Reserve Late Harvest Riesling ...</td>\n",
       "    </tr>\n",
       "    <tr>\n",
       "      <th>1</th>\n",
       "      <td>Vintner's Reserve Wild Child Block</td>\n",
       "      <td>Sweet Cheeks 2012 Vintner's Reserve Wild Child...</td>\n",
       "    </tr>\n",
       "    <tr>\n",
       "      <th>2</th>\n",
       "      <td>Mountain Cuvée</td>\n",
       "      <td>Kirkland Signature 2011 Mountain Cuvée Caberne...</td>\n",
       "    </tr>\n",
       "    <tr>\n",
       "      <th>3</th>\n",
       "      <td>NaN</td>\n",
       "      <td>Louis M. Martini 2012 Cabernet Sauvignon (Alex...</td>\n",
       "    </tr>\n",
       "    <tr>\n",
       "      <th>4</th>\n",
       "      <td>NaN</td>\n",
       "      <td>Mirassou 2012 Chardonnay (Central Coast)</td>\n",
       "    </tr>\n",
       "    <tr>\n",
       "      <th>5</th>\n",
       "      <td>Devon</td>\n",
       "      <td>Richard Böcking 2013 Devon Riesling (Mosel)</td>\n",
       "    </tr>\n",
       "    <tr>\n",
       "      <th>6</th>\n",
       "      <td>Vin de Maison</td>\n",
       "      <td>Quiévremont 2012 Vin de Maison Red (Virginia)</td>\n",
       "    </tr>\n",
       "    <tr>\n",
       "      <th>7</th>\n",
       "      <td>NaN</td>\n",
       "      <td>Acrobat 2013 Pinot Noir (Oregon)</td>\n",
       "    </tr>\n",
       "    <tr>\n",
       "      <th>8</th>\n",
       "      <td>Signature Selection</td>\n",
       "      <td>Bianchi 2011 Signature Selection Merlot (Paso ...</td>\n",
       "    </tr>\n",
       "    <tr>\n",
       "      <th>9</th>\n",
       "      <td>King Ridge Vineyard</td>\n",
       "      <td>Castello di Amorosa 2011 King Ridge Vineyard P...</td>\n",
       "    </tr>\n",
       "    <tr>\n",
       "      <th>10</th>\n",
       "      <td>Mascaria Barricato</td>\n",
       "      <td>Terre di Giurfo 2011 Mascaria Barricato  (Cera...</td>\n",
       "    </tr>\n",
       "    <tr>\n",
       "      <th>11</th>\n",
       "      <td>Puma Springs Vineyard</td>\n",
       "      <td>Envolve 2010 Puma Springs Vineyard Red (Dry Cr...</td>\n",
       "    </tr>\n",
       "    <tr>\n",
       "      <th>12</th>\n",
       "      <td>NaN</td>\n",
       "      <td>Envolve 2011 Sauvignon Blanc (Sonoma Valley)</td>\n",
       "    </tr>\n",
       "    <tr>\n",
       "      <th>13</th>\n",
       "      <td>Hyland</td>\n",
       "      <td>Erath 2010 Hyland Pinot Noir (McMinnville)</td>\n",
       "    </tr>\n",
       "    <tr>\n",
       "      <th>14</th>\n",
       "      <td>Missoni</td>\n",
       "      <td>Feudi del Pisciotto 2010 Missoni Cabernet Sauv...</td>\n",
       "    </tr>\n",
       "    <tr>\n",
       "      <th>15</th>\n",
       "      <td>NaN</td>\n",
       "      <td>Hawkins Cellars 2009 Pinot Noir (Willamette Va...</td>\n",
       "    </tr>\n",
       "    <tr>\n",
       "      <th>16</th>\n",
       "      <td>NaN</td>\n",
       "      <td>Robert Hall 2011 Sauvignon Blanc (Paso Robles)</td>\n",
       "    </tr>\n",
       "    <tr>\n",
       "      <th>17</th>\n",
       "      <td>NaN</td>\n",
       "      <td>Sundance 2011 Merlot (Maule Valley)</td>\n",
       "    </tr>\n",
       "    <tr>\n",
       "      <th>18</th>\n",
       "      <td>#SocialSecret</td>\n",
       "      <td>Tarara 2010 #SocialSecret Red (Virginia)</td>\n",
       "    </tr>\n",
       "    <tr>\n",
       "      <th>19</th>\n",
       "      <td>NaN</td>\n",
       "      <td>The White Knight 2011 Riesling (Lake County)</td>\n",
       "    </tr>\n",
       "    <tr>\n",
       "      <th>20</th>\n",
       "      <td>NaN</td>\n",
       "      <td>Trump 2011 Sauvignon Blanc (Monticello)</td>\n",
       "    </tr>\n",
       "    <tr>\n",
       "      <th>21</th>\n",
       "      <td>Estate Bottled</td>\n",
       "      <td>RustRidge 2010 Estate Bottled Chardonnay (Napa...</td>\n",
       "    </tr>\n",
       "    <tr>\n",
       "      <th>22</th>\n",
       "      <td>NaN</td>\n",
       "      <td>Souverain 2010 Chardonnay (North Coast)</td>\n",
       "    </tr>\n",
       "    <tr>\n",
       "      <th>23</th>\n",
       "      <td>Reserve</td>\n",
       "      <td>Tres Palacios 2011 Reserve Pinot Noir (Maipo V...</td>\n",
       "    </tr>\n",
       "    <tr>\n",
       "      <th>24</th>\n",
       "      <td>Estate</td>\n",
       "      <td>Okapi 2013 Estate Cabernet Sauvignon (Napa Val...</td>\n",
       "    </tr>\n",
       "    <tr>\n",
       "      <th>25</th>\n",
       "      <td>Golden Horn</td>\n",
       "      <td>Sevtap 2015 Golden Horn Sauvignon Blanc (Santa...</td>\n",
       "    </tr>\n",
       "    <tr>\n",
       "      <th>26</th>\n",
       "      <td>NaN</td>\n",
       "      <td>Simonnet-Febvre 2015  Chablis</td>\n",
       "    </tr>\n",
       "    <tr>\n",
       "      <th>27</th>\n",
       "      <td>NaN</td>\n",
       "      <td>Vignerons des Terres Secrètes 2015  Mâcon-Mill...</td>\n",
       "    </tr>\n",
       "    <tr>\n",
       "      <th>28</th>\n",
       "      <td>Inspired</td>\n",
       "      <td>Basel Cellars 2013 Inspired Red (Columbia Vall...</td>\n",
       "    </tr>\n",
       "    <tr>\n",
       "      <th>29</th>\n",
       "      <td>NaN</td>\n",
       "      <td>Cocobon 2014 Red (California)</td>\n",
       "    </tr>\n",
       "    <tr>\n",
       "      <th>...</th>\n",
       "      <td>...</td>\n",
       "      <td>...</td>\n",
       "    </tr>\n",
       "    <tr>\n",
       "      <th>68188</th>\n",
       "      <td>Mith Red Wine</td>\n",
       "      <td>Balboa 2005 Mith Red Wine Red (Columbia Valley...</td>\n",
       "    </tr>\n",
       "    <tr>\n",
       "      <th>68189</th>\n",
       "      <td>Wehlener Sonnenuhr Spätlese</td>\n",
       "      <td>Dr. Loosen 2006 Wehlener Sonnenuhr Spätlese Ri...</td>\n",
       "    </tr>\n",
       "    <tr>\n",
       "      <th>68190</th>\n",
       "      <td>Reserve</td>\n",
       "      <td>Nicholas Cole Cellars 2004 Reserve Red (Walla ...</td>\n",
       "    </tr>\n",
       "    <tr>\n",
       "      <th>68191</th>\n",
       "      <td>Fiddlestix Vineyard</td>\n",
       "      <td>Pali 2006 Fiddlestix Vineyard Pinot Noir (Sta....</td>\n",
       "    </tr>\n",
       "    <tr>\n",
       "      <th>68192</th>\n",
       "      <td>Kranachberg</td>\n",
       "      <td>Sattlerhof 2006 Kranachberg Sauvignon Blanc (S...</td>\n",
       "    </tr>\n",
       "    <tr>\n",
       "      <th>68193</th>\n",
       "      <td>Erdener Treppchen Spätlese*</td>\n",
       "      <td>Stephan Ehlen 2006 Erdener Treppchen Spätlese*...</td>\n",
       "    </tr>\n",
       "    <tr>\n",
       "      <th>68194</th>\n",
       "      <td>Bernkasteler alte Badstube am Doctorberg Spätlese</td>\n",
       "      <td>Dr. Pauly Bergweiler 2006 Bernkasteler alte Ba...</td>\n",
       "    </tr>\n",
       "    <tr>\n",
       "      <th>68195</th>\n",
       "      <td>B Crux</td>\n",
       "      <td>O. Fournier 2005 B Crux Red (Uco Valley)</td>\n",
       "    </tr>\n",
       "    <tr>\n",
       "      <th>68196</th>\n",
       "      <td>Ash Hollow Vineyard</td>\n",
       "      <td>Reininger 2005 Ash Hollow Vineyard Syrah (Wall...</td>\n",
       "    </tr>\n",
       "    <tr>\n",
       "      <th>68197</th>\n",
       "      <td>Salmos Perpetual</td>\n",
       "      <td>Torres 2005 Salmos Perpetual Red (Priorat)</td>\n",
       "    </tr>\n",
       "    <tr>\n",
       "      <th>68198</th>\n",
       "      <td>NaN</td>\n",
       "      <td>Henri de Villamont 2005  Grands-Echezeaux</td>\n",
       "    </tr>\n",
       "    <tr>\n",
       "      <th>68199</th>\n",
       "      <td>Pasionado</td>\n",
       "      <td>Andeluna 2004 Pasionado Red (Uco Valley)</td>\n",
       "    </tr>\n",
       "    <tr>\n",
       "      <th>68200</th>\n",
       "      <td>NaN</td>\n",
       "      <td>Va Piano 2006 Syrah (Columbia Valley-Walla Wal...</td>\n",
       "    </tr>\n",
       "    <tr>\n",
       "      <th>68201</th>\n",
       "      <td>Premier Cru</td>\n",
       "      <td>Bouchard Père &amp; Fils 2005 Premier Cru  (Pommard)</td>\n",
       "    </tr>\n",
       "    <tr>\n",
       "      <th>68202</th>\n",
       "      <td>Watson Vineyard</td>\n",
       "      <td>Standish 2006 Watson Vineyard Chardonnay (Mend...</td>\n",
       "    </tr>\n",
       "    <tr>\n",
       "      <th>68203</th>\n",
       "      <td>NaN</td>\n",
       "      <td>Apriori 2013 Chardonnay (Mendocino County)</td>\n",
       "    </tr>\n",
       "    <tr>\n",
       "      <th>68204</th>\n",
       "      <td>NaN</td>\n",
       "      <td>Arrowood 2010 Cabernet Sauvignon (Sonoma County)</td>\n",
       "    </tr>\n",
       "    <tr>\n",
       "      <th>68205</th>\n",
       "      <td>Adènzia</td>\n",
       "      <td>Baglio del Cristo di Campobello 2012 Adènzia R...</td>\n",
       "    </tr>\n",
       "    <tr>\n",
       "      <th>68206</th>\n",
       "      <td>Dom</td>\n",
       "      <td>Bischöfliche Weingüter Trier 2013 Dom Riesling...</td>\n",
       "    </tr>\n",
       "    <tr>\n",
       "      <th>68207</th>\n",
       "      <td>Symposio</td>\n",
       "      <td>Feudo Principi di Butera 2012 Symposio Red (Te...</td>\n",
       "    </tr>\n",
       "    <tr>\n",
       "      <th>68208</th>\n",
       "      <td>Barrel Fermented</td>\n",
       "      <td>Flora Springs 2013 Barrel Fermented Chardonnay...</td>\n",
       "    </tr>\n",
       "    <tr>\n",
       "      <th>68209</th>\n",
       "      <td>Blocks 7 &amp; 22</td>\n",
       "      <td>Hendry 2012 Blocks 7 &amp; 22 Zinfandel (Napa Valley)</td>\n",
       "    </tr>\n",
       "    <tr>\n",
       "      <th>68210</th>\n",
       "      <td>NaN</td>\n",
       "      <td>Houdini 2011 Zinfandel (Chiles Valley)</td>\n",
       "    </tr>\n",
       "    <tr>\n",
       "      <th>68211</th>\n",
       "      <td>NaN</td>\n",
       "      <td>Dog Point 2012 Chardonnay (Marlborough)</td>\n",
       "    </tr>\n",
       "    <tr>\n",
       "      <th>68212</th>\n",
       "      <td>Gimblett Gravels Merlot-Cabernet Sauvignon-Malbec</td>\n",
       "      <td>Esk Valley 2011 Gimblett Gravels Merlot-Cabern...</td>\n",
       "    </tr>\n",
       "    <tr>\n",
       "      <th>68213</th>\n",
       "      <td>Irongate</td>\n",
       "      <td>Babich 2010 Irongate Red (Hawke's Bay)</td>\n",
       "    </tr>\n",
       "    <tr>\n",
       "      <th>68214</th>\n",
       "      <td>Vértice</td>\n",
       "      <td>Caves Transmontanas 2006 Vértice Pinot Noir (D...</td>\n",
       "    </tr>\n",
       "    <tr>\n",
       "      <th>68215</th>\n",
       "      <td>Oak Aged</td>\n",
       "      <td>Dalton 2012 Oak Aged Cabernet Sauvignon (Galilee)</td>\n",
       "    </tr>\n",
       "    <tr>\n",
       "      <th>68216</th>\n",
       "      <td>Brauneberger Juffer-Sonnenuhr Spätlese</td>\n",
       "      <td>Dr. H. Thanisch (Erben Müller-Burggraef) 2013 ...</td>\n",
       "    </tr>\n",
       "    <tr>\n",
       "      <th>68217</th>\n",
       "      <td>NaN</td>\n",
       "      <td>Citation 2004 Pinot Noir (Oregon)</td>\n",
       "    </tr>\n",
       "  </tbody>\n",
       "</table>\n",
       "<p>68218 rows × 2 columns</p>\n",
       "</div>"
      ],
      "text/plain": [
       "                                             designation  \\\n",
       "0                                   Reserve Late Harvest   \n",
       "1                     Vintner's Reserve Wild Child Block   \n",
       "2                                         Mountain Cuvée   \n",
       "3                                                    NaN   \n",
       "4                                                    NaN   \n",
       "5                                                  Devon   \n",
       "6                                          Vin de Maison   \n",
       "7                                                    NaN   \n",
       "8                                    Signature Selection   \n",
       "9                                    King Ridge Vineyard   \n",
       "10                                    Mascaria Barricato   \n",
       "11                                 Puma Springs Vineyard   \n",
       "12                                                   NaN   \n",
       "13                                                Hyland   \n",
       "14                                               Missoni   \n",
       "15                                                   NaN   \n",
       "16                                                   NaN   \n",
       "17                                                   NaN   \n",
       "18                                         #SocialSecret   \n",
       "19                                                   NaN   \n",
       "20                                                   NaN   \n",
       "21                                        Estate Bottled   \n",
       "22                                                   NaN   \n",
       "23                                               Reserve   \n",
       "24                                                Estate   \n",
       "25                                           Golden Horn   \n",
       "26                                                   NaN   \n",
       "27                                                   NaN   \n",
       "28                                              Inspired   \n",
       "29                                                   NaN   \n",
       "...                                                  ...   \n",
       "68188                                      Mith Red Wine   \n",
       "68189                        Wehlener Sonnenuhr Spätlese   \n",
       "68190                                            Reserve   \n",
       "68191                                Fiddlestix Vineyard   \n",
       "68192                                        Kranachberg   \n",
       "68193                        Erdener Treppchen Spätlese*   \n",
       "68194  Bernkasteler alte Badstube am Doctorberg Spätlese   \n",
       "68195                                             B Crux   \n",
       "68196                                Ash Hollow Vineyard   \n",
       "68197                                   Salmos Perpetual   \n",
       "68198                                                NaN   \n",
       "68199                                          Pasionado   \n",
       "68200                                                NaN   \n",
       "68201                                        Premier Cru   \n",
       "68202                                    Watson Vineyard   \n",
       "68203                                                NaN   \n",
       "68204                                                NaN   \n",
       "68205                                            Adènzia   \n",
       "68206                                                Dom   \n",
       "68207                                           Symposio   \n",
       "68208                                   Barrel Fermented   \n",
       "68209                                      Blocks 7 & 22   \n",
       "68210                                                NaN   \n",
       "68211                                                NaN   \n",
       "68212  Gimblett Gravels Merlot-Cabernet Sauvignon-Malbec   \n",
       "68213                                           Irongate   \n",
       "68214                                            Vértice   \n",
       "68215                                           Oak Aged   \n",
       "68216             Brauneberger Juffer-Sonnenuhr Spätlese   \n",
       "68217                                                NaN   \n",
       "\n",
       "                                                   title  \n",
       "0      St. Julian 2013 Reserve Late Harvest Riesling ...  \n",
       "1      Sweet Cheeks 2012 Vintner's Reserve Wild Child...  \n",
       "2      Kirkland Signature 2011 Mountain Cuvée Caberne...  \n",
       "3      Louis M. Martini 2012 Cabernet Sauvignon (Alex...  \n",
       "4               Mirassou 2012 Chardonnay (Central Coast)  \n",
       "5            Richard Böcking 2013 Devon Riesling (Mosel)  \n",
       "6          Quiévremont 2012 Vin de Maison Red (Virginia)  \n",
       "7                       Acrobat 2013 Pinot Noir (Oregon)  \n",
       "8      Bianchi 2011 Signature Selection Merlot (Paso ...  \n",
       "9      Castello di Amorosa 2011 King Ridge Vineyard P...  \n",
       "10     Terre di Giurfo 2011 Mascaria Barricato  (Cera...  \n",
       "11     Envolve 2010 Puma Springs Vineyard Red (Dry Cr...  \n",
       "12          Envolve 2011 Sauvignon Blanc (Sonoma Valley)  \n",
       "13            Erath 2010 Hyland Pinot Noir (McMinnville)  \n",
       "14     Feudi del Pisciotto 2010 Missoni Cabernet Sauv...  \n",
       "15     Hawkins Cellars 2009 Pinot Noir (Willamette Va...  \n",
       "16        Robert Hall 2011 Sauvignon Blanc (Paso Robles)  \n",
       "17                   Sundance 2011 Merlot (Maule Valley)  \n",
       "18              Tarara 2010 #SocialSecret Red (Virginia)  \n",
       "19          The White Knight 2011 Riesling (Lake County)  \n",
       "20               Trump 2011 Sauvignon Blanc (Monticello)  \n",
       "21     RustRidge 2010 Estate Bottled Chardonnay (Napa...  \n",
       "22               Souverain 2010 Chardonnay (North Coast)  \n",
       "23     Tres Palacios 2011 Reserve Pinot Noir (Maipo V...  \n",
       "24     Okapi 2013 Estate Cabernet Sauvignon (Napa Val...  \n",
       "25     Sevtap 2015 Golden Horn Sauvignon Blanc (Santa...  \n",
       "26                         Simonnet-Febvre 2015  Chablis  \n",
       "27     Vignerons des Terres Secrètes 2015  Mâcon-Mill...  \n",
       "28     Basel Cellars 2013 Inspired Red (Columbia Vall...  \n",
       "29                         Cocobon 2014 Red (California)  \n",
       "...                                                  ...  \n",
       "68188  Balboa 2005 Mith Red Wine Red (Columbia Valley...  \n",
       "68189  Dr. Loosen 2006 Wehlener Sonnenuhr Spätlese Ri...  \n",
       "68190  Nicholas Cole Cellars 2004 Reserve Red (Walla ...  \n",
       "68191  Pali 2006 Fiddlestix Vineyard Pinot Noir (Sta....  \n",
       "68192  Sattlerhof 2006 Kranachberg Sauvignon Blanc (S...  \n",
       "68193  Stephan Ehlen 2006 Erdener Treppchen Spätlese*...  \n",
       "68194  Dr. Pauly Bergweiler 2006 Bernkasteler alte Ba...  \n",
       "68195           O. Fournier 2005 B Crux Red (Uco Valley)  \n",
       "68196  Reininger 2005 Ash Hollow Vineyard Syrah (Wall...  \n",
       "68197         Torres 2005 Salmos Perpetual Red (Priorat)  \n",
       "68198          Henri de Villamont 2005  Grands-Echezeaux  \n",
       "68199           Andeluna 2004 Pasionado Red (Uco Valley)  \n",
       "68200  Va Piano 2006 Syrah (Columbia Valley-Walla Wal...  \n",
       "68201   Bouchard Père & Fils 2005 Premier Cru  (Pommard)  \n",
       "68202  Standish 2006 Watson Vineyard Chardonnay (Mend...  \n",
       "68203         Apriori 2013 Chardonnay (Mendocino County)  \n",
       "68204   Arrowood 2010 Cabernet Sauvignon (Sonoma County)  \n",
       "68205  Baglio del Cristo di Campobello 2012 Adènzia R...  \n",
       "68206  Bischöfliche Weingüter Trier 2013 Dom Riesling...  \n",
       "68207  Feudo Principi di Butera 2012 Symposio Red (Te...  \n",
       "68208  Flora Springs 2013 Barrel Fermented Chardonnay...  \n",
       "68209  Hendry 2012 Blocks 7 & 22 Zinfandel (Napa Valley)  \n",
       "68210             Houdini 2011 Zinfandel (Chiles Valley)  \n",
       "68211            Dog Point 2012 Chardonnay (Marlborough)  \n",
       "68212  Esk Valley 2011 Gimblett Gravels Merlot-Cabern...  \n",
       "68213             Babich 2010 Irongate Red (Hawke's Bay)  \n",
       "68214  Caves Transmontanas 2006 Vértice Pinot Noir (D...  \n",
       "68215  Dalton 2012 Oak Aged Cabernet Sauvignon (Galilee)  \n",
       "68216  Dr. H. Thanisch (Erben Müller-Burggraef) 2013 ...  \n",
       "68217                  Citation 2004 Pinot Noir (Oregon)  \n",
       "\n",
       "[68218 rows x 2 columns]"
      ]
     },
     "execution_count": 104,
     "metadata": {},
     "output_type": "execute_result"
    }
   ],
   "source": [
    "df[['designation', 'title']]"
   ]
  },
  {
   "cell_type": "code",
   "execution_count": 105,
   "metadata": {},
   "outputs": [
    {
     "data": {
      "text/plain": [
       "<matplotlib.axes._subplots.AxesSubplot at 0x1a26573048>"
      ]
     },
     "execution_count": 105,
     "metadata": {},
     "output_type": "execute_result"
    },
    {
     "data": {
      "image/png": "[encoded data removed]",
      "text/plain": [
       "<Figure size 432x288 with 1 Axes>"
      ]
     },
     "metadata": {
      "needs_background": "light"
     },
     "output_type": "display_data"
    }
   ],
   "source": [
    "df.price.hist()"
   ]
  },
  {
   "cell_type": "code",
   "execution_count": 106,
   "metadata": {},
   "outputs": [
    {
     "data": {
      "text/plain": [
       "count    68218.000000\n",
       "mean        33.437069\n",
       "std         20.372339\n",
       "min          4.000000\n",
       "25%         18.000000\n",
       "50%         28.000000\n",
       "75%         45.000000\n",
       "max        117.000000\n",
       "Name: price, dtype: float64"
      ]
     },
     "execution_count": 106,
     "metadata": {},
     "output_type": "execute_result"
    }
   ],
   "source": [
    "df.price.describe()"
   ]
  },
  {
   "cell_type": "code",
   "execution_count": 107,
   "metadata": {},
   "outputs": [
    {
     "data": {
      "text/plain": [
       "<matplotlib.axes._subplots.AxesSubplot at 0x1a26d9d748>"
      ]
     },
     "execution_count": 107,
     "metadata": {},
     "output_type": "execute_result"
    },
    {
     "data": {
      "image/png": "[encoded data removed]",
      "text/plain": [
       "<Figure size 432x288 with 1 Axes>"
      ]
     },
     "metadata": {
      "needs_background": "light"
     },
     "output_type": "display_data"
    }
   ],
   "source": [
    "df.points.hist()"
   ]
  },
  {
   "cell_type": "code",
   "execution_count": 108,
   "metadata": {},
   "outputs": [
    {
     "data": {
      "text/plain": [
       "count    68218.000000\n",
       "mean        88.423187\n",
       "std          3.063125\n",
       "min         80.000000\n",
       "25%         86.000000\n",
       "50%         88.000000\n",
       "75%         91.000000\n",
       "max        100.000000\n",
       "Name: points, dtype: float64"
      ]
     },
     "execution_count": 108,
     "metadata": {},
     "output_type": "execute_result"
    }
   ],
   "source": [
    "df.points.describe()"
   ]
  },
  {
   "cell_type": "code",
   "execution_count": 109,
   "metadata": {},
   "outputs": [
    {
     "name": "stdout",
     "output_type": "stream",
     "text": [
      "<class 'pandas.core.frame.DataFrame'>\n",
      "RangeIndex: 68218 entries, 0 to 68217\n",
      "Data columns (total 14 columns):\n",
      "index                    68218 non-null int64\n",
      "country                  68195 non-null object\n",
      "description              68218 non-null object\n",
      "designation              47294 non-null object\n",
      "points                   68218 non-null int64\n",
      "price                    68218 non-null float64\n",
      "province                 68195 non-null object\n",
      "region_1                 58661 non-null object\n",
      "region_2                 38251 non-null object\n",
      "taster_name              53025 non-null object\n",
      "taster_twitter_handle    49622 non-null object\n",
      "title                    68218 non-null object\n",
      "variety                  68218 non-null object\n",
      "winery                   68218 non-null object\n",
      "dtypes: float64(1), int64(2), object(11)\n",
      "memory usage: 7.3+ MB\n"
     ]
    }
   ],
   "source": [
    "df.info()"
   ]
  },
  {
   "cell_type": "code",
   "execution_count": 110,
   "metadata": {},
   "outputs": [
    {
     "data": {
      "text/plain": [
       "40"
      ]
     },
     "execution_count": 110,
     "metadata": {},
     "output_type": "execute_result"
    }
   ],
   "source": [
    "df.country.nunique()"
   ]
  },
  {
   "cell_type": "code",
   "execution_count": 111,
   "metadata": {},
   "outputs": [
    {
     "data": {
      "text/plain": [
       "US                40898\n",
       "France            10147\n",
       "Italy              3942\n",
       "Chile              3313\n",
       "Germany            1761\n",
       "Argentina          1457\n",
       "New Zealand        1267\n",
       "Spain              1156\n",
       "Australia          1116\n",
       "Austria             870\n",
       "South Africa        768\n",
       "Israel              345\n",
       "Portugal            340\n",
       "Canada              164\n",
       "Greece              117\n",
       "Bulgaria            110\n",
       "Romania              82\n",
       "Mexico               43\n",
       "Slovenia             35\n",
       "Turkey               35\n",
       "Uruguay              35\n",
       "Moldova              30\n",
       "England              23\n",
       "Hungary              23\n",
       "Lebanon              22\n",
       "Brazil               22\n",
       "Morocco              20\n",
       "Croatia              10\n",
       "Peru                  7\n",
       "Serbia                6\n",
       "Ukraine               6\n",
       "Georgia               5\n",
       "Czech Republic        5\n",
       "Macedonia             5\n",
       "Cyprus                3\n",
       "Luxembourg            2\n",
       "India                 2\n",
       "Switzerland           1\n",
       "Armenia               1\n",
       "Slovakia              1\n",
       "Name: country, dtype: int64"
      ]
     },
     "execution_count": 111,
     "metadata": {},
     "output_type": "execute_result"
    }
   ],
   "source": [
    "df.country.value_counts()"
   ]
  },
  {
   "cell_type": "code",
   "execution_count": 112,
   "metadata": {},
   "outputs": [
    {
     "data": {
      "text/plain": [
       "324"
      ]
     },
     "execution_count": 112,
     "metadata": {},
     "output_type": "execute_result"
    }
   ],
   "source": [
    "df.province.nunique()"
   ]
  },
  {
   "cell_type": "code",
   "execution_count": 113,
   "metadata": {},
   "outputs": [
    {
     "data": {
      "text/plain": [
       "California                   28076\n",
       "Washington                    6144\n",
       "Oregon                        4083\n",
       "Bordeaux                      3233\n",
       "Burgundy                      2640\n",
       "Tuscany                       2153\n",
       "New York                      1815\n",
       "Mendoza Province              1267\n",
       "Mosel                          983\n",
       "Provence                       950\n",
       "Loire Valley                   916\n",
       "Alsace                         794\n",
       "Marlborough                    736\n",
       "Casablanca Valley              575\n",
       "South Australia                574\n",
       "Veneto                         517\n",
       "Colchagua Valley               515\n",
       "Maipo Valley                   508\n",
       "Sicily & Sardinia              479\n",
       "Northern Spain                 431\n",
       "Catalonia                      403\n",
       "Southwest France               402\n",
       "Virginia                       373\n",
       "France Other                   330\n",
       "Central Valley                 289\n",
       "Languedoc-Roussillon           289\n",
       "Champagne                      280\n",
       "Maule Valley                   280\n",
       "Rhône Valley                   270\n",
       "Rheingau                       264\n",
       "                             ...  \n",
       "Terras do Sado                   1\n",
       "Santa Catarina                   1\n",
       "Szekszárd                        1\n",
       "South Africa                     1\n",
       "Alentejo                         1\n",
       "Österreichischer Perlwein        1\n",
       "Panciu                           1\n",
       "Württemberg                      1\n",
       "Sopron                           1\n",
       "Vlootenburg                      1\n",
       "Armenia                          1\n",
       "Cape South Coast                 1\n",
       "Helderberg                       1\n",
       "Krania Olympus                   1\n",
       "Lakonia                          1\n",
       "Elazığ                           1\n",
       "Cape Agulhas                     1\n",
       "Iowa                             1\n",
       "Murfatlar                        1\n",
       "Muzla                            1\n",
       "San Vicente                      1\n",
       "Dolenjska                        1\n",
       "Chalkidiki                       1\n",
       "Ahr                              1\n",
       "Pitsilia Mountains               1\n",
       "Elazığ-Diyarbakir                1\n",
       "Waitaki Valley                   1\n",
       "Agioritikos                      1\n",
       "Commandaria                      1\n",
       "Ribatejano                       1\n",
       "Name: province, Length: 324, dtype: int64"
      ]
     },
     "execution_count": 113,
     "metadata": {},
     "output_type": "execute_result"
    }
   ],
   "source": [
    "df.province.value_counts()"
   ]
  },
  {
   "cell_type": "code",
   "execution_count": 114,
   "metadata": {},
   "outputs": [
    {
     "data": {
      "text/plain": [
       "19"
      ]
     },
     "execution_count": 114,
     "metadata": {},
     "output_type": "execute_result"
    }
   ],
   "source": [
    "df.taster_name.nunique()"
   ]
  },
  {
   "cell_type": "code",
   "execution_count": 115,
   "metadata": {},
   "outputs": [
    {
     "data": {
      "text/plain": [
       "NaN                   15193\n",
       "Roger Voss             9466\n",
       "Virginie Boone         7568\n",
       "Paul Gregutt           7065\n",
       "Michael Schachner      5991\n",
       "Matt Kettmann          4589\n",
       "Sean P. Sullivan       3466\n",
       "Anna Lee C. Iijima     3152\n",
       "Joe Czerwinski         2885\n",
       "Jim Gordon             2879\n",
       "Kerin O’Keefe          2547\n",
       "Anne Krebiehl MW       1187\n",
       "Lauren Buzzeo           960\n",
       "Susan Kostrzewa         498\n",
       "Mike DeSimone           273\n",
       "Jeff Jenssen            234\n",
       "Alexander Peartree      185\n",
       "Carrie Dykes             66\n",
       "Fiona Adams              11\n",
       "Christina Pickard         3\n",
       "Name: taster_name, dtype: int64"
      ]
     },
     "execution_count": 115,
     "metadata": {},
     "output_type": "execute_result"
    }
   ],
   "source": [
    "df.taster_name.value_counts(dropna = False)"
   ]
  },
  {
   "cell_type": "code",
   "execution_count": 116,
   "metadata": {},
   "outputs": [
    {
     "data": {
      "text/plain": [
       "11268"
      ]
     },
     "execution_count": 116,
     "metadata": {},
     "output_type": "execute_result"
    }
   ],
   "source": [
    "df.winery.nunique()"
   ]
  },
  {
   "cell_type": "code",
   "execution_count": 121,
   "metadata": {},
   "outputs": [
    {
     "data": {
      "text/plain": [
       "count    11268.000000\n",
       "mean         6.054136\n",
       "std         10.370773\n",
       "min          1.000000\n",
       "25%          1.000000\n",
       "50%          3.000000\n",
       "75%          6.000000\n",
       "max        216.000000\n",
       "Name: winery, dtype: float64"
      ]
     },
     "execution_count": 121,
     "metadata": {},
     "output_type": "execute_result"
    }
   ],
   "source": [
    "df.winery.value_counts(dropna=False).describe()"
   ]
  },
  {
   "cell_type": "code",
   "execution_count": null,
   "metadata": {},
   "outputs": [],
   "source": []
  }
 ],
 "metadata": {
  "kernelspec": {
   "display_name": "Python 3",
   "language": "python",
   "name": "python3"
  },
  "language_info": {
   "codemirror_mode": {
    "name": "ipython",
    "version": 3
   },
   "file_extension": ".py",
   "mimetype": "text/x-python",
   "name": "python",
   "nbconvert_exporter": "python",
   "pygments_lexer": "ipython3",
   "version": "3.7.3"
  }
 },
 "nbformat": 4,
 "nbformat_minor": 2
}
